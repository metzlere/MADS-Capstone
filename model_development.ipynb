{
 "cells": [
  {
   "cell_type": "code",
   "execution_count": 1,
   "metadata": {},
   "outputs": [],
   "source": [
    "#pip install imblearn"
   ]
  },
  {
   "cell_type": "code",
   "execution_count": 2,
   "metadata": {},
   "outputs": [],
   "source": [
    "import pandas as pd\n",
    "from sklearn.model_selection import train_test_split, GridSearchCV\n",
    "from sklearn.preprocessing import StandardScaler\n",
    "from sklearn.naive_bayes import GaussianNB\n",
    "from sklearn.linear_model import LogisticRegression\n",
    "from sklearn.ensemble import RandomForestClassifier\n",
    "from sklearn.metrics import accuracy_score, confusion_matrix, f1_score\n",
    "from imblearn.over_sampling import SMOTE\n",
    "from imblearn.over_sampling import RandomOverSampler\n",
    "from imblearn.pipeline import Pipeline\n",
    "import joblib"
   ]
  },
  {
   "cell_type": "code",
   "execution_count": 3,
   "metadata": {},
   "outputs": [],
   "source": [
    "\n",
    "#%cd MADS-Capstone"
   ]
  },
  {
   "cell_type": "code",
   "execution_count": 4,
   "metadata": {},
   "outputs": [
    {
     "data": {
      "text/html": [
       "<div>\n",
       "<style scoped>\n",
       "    .dataframe tbody tr th:only-of-type {\n",
       "        vertical-align: middle;\n",
       "    }\n",
       "\n",
       "    .dataframe tbody tr th {\n",
       "        vertical-align: top;\n",
       "    }\n",
       "\n",
       "    .dataframe thead th {\n",
       "        text-align: right;\n",
       "    }\n",
       "</style>\n",
       "<table border=\"1\" class=\"dataframe\">\n",
       "  <thead>\n",
       "    <tr style=\"text-align: right;\">\n",
       "      <th></th>\n",
       "      <th>YEAR_OF_DISCHARGE</th>\n",
       "      <th>AGE</th>\n",
       "      <th>GENDER</th>\n",
       "      <th>RACE</th>\n",
       "      <th>MARITAL_STATUS</th>\n",
       "      <th>EDUCATION</th>\n",
       "      <th>EMPLOYMENT_AT_ADMISSION</th>\n",
       "      <th>EMPLOYMENT_AT_DISCHARGE</th>\n",
       "      <th>LIVING_ARRANGEMENT_AT_ADMISSION</th>\n",
       "      <th>LIVING_ARRANGEMENT_AT_DISCHARGE</th>\n",
       "      <th>...</th>\n",
       "      <th>PRIMARY_SUBSTANCE_ABUSE</th>\n",
       "      <th>FREQUENCY_OF_USE</th>\n",
       "      <th>AGE_AT_FIRST_USE</th>\n",
       "      <th>ALCOHOL_OR_DRUG_ABUSE</th>\n",
       "      <th>DSM_DIAGNOSIS</th>\n",
       "      <th>PSYCHIATRIC_PROBLEM</th>\n",
       "      <th>HEALTH_INSURANCE</th>\n",
       "      <th>PRIMARY_PAYMENT_METHOD</th>\n",
       "      <th>FREQUENCY_OF_SELF_HELP_ATTENDANCE</th>\n",
       "      <th>STATE</th>\n",
       "    </tr>\n",
       "  </thead>\n",
       "  <tbody>\n",
       "    <tr>\n",
       "      <th>0</th>\n",
       "      <td>2017</td>\n",
       "      <td>45-49</td>\n",
       "      <td>Female</td>\n",
       "      <td>White</td>\n",
       "      <td>Divorced, widowed</td>\n",
       "      <td>Grade 12 (or GED)</td>\n",
       "      <td>Full time</td>\n",
       "      <td>Full time</td>\n",
       "      <td>Independent living</td>\n",
       "      <td>Independent living</td>\n",
       "      <td>...</td>\n",
       "      <td>Methamphetamine/speed</td>\n",
       "      <td>No use in the past month</td>\n",
       "      <td>30 years and older</td>\n",
       "      <td>Other drugs only</td>\n",
       "      <td>Depressive disorders</td>\n",
       "      <td>No</td>\n",
       "      <td>None</td>\n",
       "      <td>Medicaid</td>\n",
       "      <td>8-30 times in the past month</td>\n",
       "      <td>Alaska</td>\n",
       "    </tr>\n",
       "    <tr>\n",
       "      <th>1</th>\n",
       "      <td>2017</td>\n",
       "      <td>35-39</td>\n",
       "      <td>Male</td>\n",
       "      <td>White</td>\n",
       "      <td>Never married</td>\n",
       "      <td>4 years of college, university, BA/BS, some po...</td>\n",
       "      <td>Full time</td>\n",
       "      <td>Full time</td>\n",
       "      <td>Independent living</td>\n",
       "      <td>Independent living</td>\n",
       "      <td>...</td>\n",
       "      <td>Alcohol</td>\n",
       "      <td>Some use</td>\n",
       "      <td>18-20 years</td>\n",
       "      <td>Alcohol only</td>\n",
       "      <td>Alcohol abuse</td>\n",
       "      <td>No</td>\n",
       "      <td>Medicare, other (e.g. TRICARE, CHAMPUS)</td>\n",
       "      <td>Private insurance (Blue Cross/Blue Shield, oth...</td>\n",
       "      <td>No attendance</td>\n",
       "      <td>Alaska</td>\n",
       "    </tr>\n",
       "    <tr>\n",
       "      <th>2</th>\n",
       "      <td>2017</td>\n",
       "      <td>30-34</td>\n",
       "      <td>Male</td>\n",
       "      <td>Two or more races</td>\n",
       "      <td>Never married</td>\n",
       "      <td>Grade 12 (or GED)</td>\n",
       "      <td>Full time</td>\n",
       "      <td>Full time</td>\n",
       "      <td>Dependent living</td>\n",
       "      <td>Independent living</td>\n",
       "      <td>...</td>\n",
       "      <td>Alcohol</td>\n",
       "      <td>Some use</td>\n",
       "      <td>11 years and under</td>\n",
       "      <td>Alcohol and other drugs</td>\n",
       "      <td>Alcohol dependence</td>\n",
       "      <td>No</td>\n",
       "      <td>None</td>\n",
       "      <td>Medicaid</td>\n",
       "      <td>No attendance</td>\n",
       "      <td>Alaska</td>\n",
       "    </tr>\n",
       "    <tr>\n",
       "      <th>3</th>\n",
       "      <td>2017</td>\n",
       "      <td>25-29</td>\n",
       "      <td>Female</td>\n",
       "      <td>Alaskan Native</td>\n",
       "      <td>Now Married</td>\n",
       "      <td>Grades 9 to 11</td>\n",
       "      <td>Unemployed</td>\n",
       "      <td>Unemployed</td>\n",
       "      <td>Independent living</td>\n",
       "      <td>Independent living</td>\n",
       "      <td>...</td>\n",
       "      <td>Other drugs</td>\n",
       "      <td>Daily use</td>\n",
       "      <td>18-20 years</td>\n",
       "      <td>Alcohol and other drugs</td>\n",
       "      <td>Alcohol dependence</td>\n",
       "      <td>No</td>\n",
       "      <td>Medicaid</td>\n",
       "      <td>Medicaid</td>\n",
       "      <td>No attendance</td>\n",
       "      <td>Alaska</td>\n",
       "    </tr>\n",
       "    <tr>\n",
       "      <th>4</th>\n",
       "      <td>2017</td>\n",
       "      <td>25-29</td>\n",
       "      <td>Female</td>\n",
       "      <td>Alaskan Native</td>\n",
       "      <td>Now Married</td>\n",
       "      <td>Grades 9 to 11</td>\n",
       "      <td>Unemployed</td>\n",
       "      <td>Unemployed</td>\n",
       "      <td>Independent living</td>\n",
       "      <td>Independent living</td>\n",
       "      <td>...</td>\n",
       "      <td>Alcohol</td>\n",
       "      <td>Some use</td>\n",
       "      <td>12-14 years</td>\n",
       "      <td>Alcohol only</td>\n",
       "      <td>Alcohol dependence</td>\n",
       "      <td>Yes</td>\n",
       "      <td>Medicaid</td>\n",
       "      <td>Medicaid</td>\n",
       "      <td>No attendance</td>\n",
       "      <td>Alaska</td>\n",
       "    </tr>\n",
       "  </tbody>\n",
       "</table>\n",
       "<p>5 rows × 28 columns</p>\n",
       "</div>"
      ],
      "text/plain": [
       "   YEAR_OF_DISCHARGE    AGE  GENDER               RACE     MARITAL_STATUS  \\\n",
       "0               2017  45-49  Female              White  Divorced, widowed   \n",
       "1               2017  35-39    Male              White      Never married   \n",
       "2               2017  30-34    Male  Two or more races      Never married   \n",
       "3               2017  25-29  Female     Alaskan Native        Now Married   \n",
       "4               2017  25-29  Female     Alaskan Native        Now Married   \n",
       "\n",
       "                                           EDUCATION EMPLOYMENT_AT_ADMISSION  \\\n",
       "0                                  Grade 12 (or GED)               Full time   \n",
       "1  4 years of college, university, BA/BS, some po...               Full time   \n",
       "2                                  Grade 12 (or GED)               Full time   \n",
       "3                                     Grades 9 to 11              Unemployed   \n",
       "4                                     Grades 9 to 11              Unemployed   \n",
       "\n",
       "  EMPLOYMENT_AT_DISCHARGE LIVING_ARRANGEMENT_AT_ADMISSION  \\\n",
       "0               Full time              Independent living   \n",
       "1               Full time              Independent living   \n",
       "2               Full time                Dependent living   \n",
       "3              Unemployed              Independent living   \n",
       "4              Unemployed              Independent living   \n",
       "\n",
       "  LIVING_ARRANGEMENT_AT_DISCHARGE  ... PRIMARY_SUBSTANCE_ABUSE  \\\n",
       "0              Independent living  ...   Methamphetamine/speed   \n",
       "1              Independent living  ...                 Alcohol   \n",
       "2              Independent living  ...                 Alcohol   \n",
       "3              Independent living  ...             Other drugs   \n",
       "4              Independent living  ...                 Alcohol   \n",
       "\n",
       "           FREQUENCY_OF_USE    AGE_AT_FIRST_USE    ALCOHOL_OR_DRUG_ABUSE  \\\n",
       "0  No use in the past month  30 years and older         Other drugs only   \n",
       "1                  Some use         18-20 years             Alcohol only   \n",
       "2                  Some use  11 years and under  Alcohol and other drugs   \n",
       "3                 Daily use         18-20 years  Alcohol and other drugs   \n",
       "4                  Some use         12-14 years             Alcohol only   \n",
       "\n",
       "          DSM_DIAGNOSIS PSYCHIATRIC_PROBLEM  \\\n",
       "0  Depressive disorders                  No   \n",
       "1         Alcohol abuse                  No   \n",
       "2    Alcohol dependence                  No   \n",
       "3    Alcohol dependence                  No   \n",
       "4    Alcohol dependence                 Yes   \n",
       "\n",
       "                          HEALTH_INSURANCE  \\\n",
       "0                                     None   \n",
       "1  Medicare, other (e.g. TRICARE, CHAMPUS)   \n",
       "2                                     None   \n",
       "3                                 Medicaid   \n",
       "4                                 Medicaid   \n",
       "\n",
       "                              PRIMARY_PAYMENT_METHOD  \\\n",
       "0                                           Medicaid   \n",
       "1  Private insurance (Blue Cross/Blue Shield, oth...   \n",
       "2                                           Medicaid   \n",
       "3                                           Medicaid   \n",
       "4                                           Medicaid   \n",
       "\n",
       "  FREQUENCY_OF_SELF_HELP_ATTENDANCE   STATE  \n",
       "0      8-30 times in the past month  Alaska  \n",
       "1                     No attendance  Alaska  \n",
       "2                     No attendance  Alaska  \n",
       "3                     No attendance  Alaska  \n",
       "4                     No attendance  Alaska  \n",
       "\n",
       "[5 rows x 28 columns]"
      ]
     },
     "execution_count": 4,
     "metadata": {},
     "output_type": "execute_result"
    }
   ],
   "source": [
    "df = pd.read_csv(\"cleaned_data.csv\")\n",
    "\n",
    "df.head()"
   ]
  },
  {
   "cell_type": "code",
   "execution_count": 5,
   "metadata": {},
   "outputs": [
    {
     "name": "stdout",
     "output_type": "stream",
     "text": [
      "Index(['YEAR_OF_DISCHARGE', 'AGE', 'GENDER', 'RACE', 'MARITAL_STATUS',\n",
      "       'EDUCATION', 'EMPLOYMENT_AT_ADMISSION', 'EMPLOYMENT_AT_DISCHARGE',\n",
      "       'LIVING_ARRANGEMENT_AT_ADMISSION', 'LIVING_ARRANGEMENT_AT_DISCHARGE',\n",
      "       'ARRESTS_IN_30_DAYS_PRIOR_TO_ADMISSION',\n",
      "       'ARRESTS_IN_30_DAYS_PRIOR_TO_DISCHARGE', 'SERVICES_AT_ADMISSION',\n",
      "       'SERVICES_AT_DISCHARGE', 'REASON_FOR_DISCHARGE', 'LENGTH_OF_STAY',\n",
      "       'PRIMARY_SOURCE_OF_REFERRAL', 'PRIOR_TREATMENT_EPISODES',\n",
      "       'PRIMARY_SUBSTANCE_ABUSE', 'FREQUENCY_OF_USE', 'AGE_AT_FIRST_USE',\n",
      "       'ALCOHOL_OR_DRUG_ABUSE', 'DSM_DIAGNOSIS', 'PSYCHIATRIC_PROBLEM',\n",
      "       'HEALTH_INSURANCE', 'PRIMARY_PAYMENT_METHOD',\n",
      "       'FREQUENCY_OF_SELF_HELP_ATTENDANCE', 'STATE'],\n",
      "      dtype='object')\n",
      "(1035841, 28)\n"
     ]
    }
   ],
   "source": [
    "print(df.columns)\n",
    "print(df.shape)"
   ]
  },
  {
   "attachments": {},
   "cell_type": "markdown",
   "metadata": {},
   "source": [
    "## Feature Engineering"
   ]
  },
  {
   "cell_type": "code",
   "execution_count": 6,
   "metadata": {},
   "outputs": [
    {
     "name": "stdout",
     "output_type": "stream",
     "text": [
      "Treatment completed                                     382503\n",
      "Transferred to another treatment program or facility    345744\n",
      "Dropped out of treatment                                180620\n",
      "Terminated by facility                                   57002\n",
      "Other                                                    52134\n",
      "Incarcerated                                             16166\n",
      "Death                                                     1672\n",
      "Name: REASON_FOR_DISCHARGE, dtype: int64 \n",
      "\n",
      "Ambulatory, non-intensive outpatient                465902\n",
      "Ambulatory, intensive outpatient                    209535\n",
      "Rehab/residential, short term (30 days or fewer)    139983\n",
      "Detox, 24-hour, free-standing residential           131314\n",
      "Rehab/residential, long term (more than 30 days)     57799\n",
      "Ambulatory, detoxification                           18940\n",
      "Detox, 24-hour, hospital inpatient                   11201\n",
      "Rehab/residential, hospital (non-detox)               1167\n",
      "Name: SERVICES_AT_DISCHARGE, dtype: int64 \n",
      "\n",
      "One or more prior treatment episodes    654742\n",
      "No prior treatment episode              381099\n",
      "Name: PRIOR_TREATMENT_EPISODES, dtype: int64\n"
     ]
    }
   ],
   "source": [
    "print(df['REASON_FOR_DISCHARGE'].value_counts(), '\\n')\n",
    "print(df['SERVICES_AT_DISCHARGE'].value_counts(), '\\n')\n",
    "print(df['PRIOR_TREATMENT_EPISODES'].value_counts())"
   ]
  },
  {
   "cell_type": "code",
   "execution_count": 7,
   "metadata": {},
   "outputs": [],
   "source": [
    "df = df[df['REASON_FOR_DISCHARGE'] != 'Transferred to another treatment program or facility']"
   ]
  },
  {
   "cell_type": "code",
   "execution_count": 8,
   "metadata": {},
   "outputs": [
    {
     "name": "stdout",
     "output_type": "stream",
     "text": [
      "0    573270\n",
      "1    116827\n",
      "Name: SUCCESSFUL_TREATMENT, dtype: int64\n"
     ]
    }
   ],
   "source": [
    "# Create target variable. If the patient completed treatment and had no prior treatment episodes, they are considered a success. Otherwise, they are considered a failure.\n",
    "df['SUCCESSFUL_TREATMENT'] = df.apply(lambda row: 1 if row['REASON_FOR_DISCHARGE'] == 'Treatment completed' and row['PRIOR_TREATMENT_EPISODES'] == \"No prior treatment episode\" else 0, axis=1)\n",
    "\n",
    "print(df['SUCCESSFUL_TREATMENT'].value_counts())"
   ]
  },
  {
   "attachments": {},
   "cell_type": "markdown",
   "metadata": {},
   "source": [
    "## Modeling"
   ]
  },
  {
   "attachments": {},
   "cell_type": "markdown",
   "metadata": {},
   "source": [
    "### Initial evaluation/model baselines"
   ]
  },
  {
   "cell_type": "code",
   "execution_count": 9,
   "metadata": {},
   "outputs": [
    {
     "data": {
      "text/plain": [
       "(690097, 224)"
      ]
     },
     "execution_count": 9,
     "metadata": {},
     "output_type": "execute_result"
    }
   ],
   "source": [
    "df_one_hot = pd.get_dummies(df)\n",
    "df_one_hot.shape"
   ]
  },
  {
   "cell_type": "code",
   "execution_count": 10,
   "metadata": {},
   "outputs": [],
   "source": [
    "target = df['SUCCESSFUL_TREATMENT']\n",
    "features = df.drop(['REASON_FOR_DISCHARGE', 'PRIOR_TREATMENT_EPISODES', 'SUCCESSFUL_TREATMENT'], axis=1)\n",
    "features_one_hot = pd.get_dummies(features)\n",
    "\n",
    "X_train, X_test, y_train, y_test = train_test_split(features_one_hot, target, test_size=0.2, random_state=42)\n"
   ]
  },
  {
   "cell_type": "code",
   "execution_count": 11,
   "metadata": {},
   "outputs": [],
   "source": [
    "# models_to_train = {\n",
    "#     \"naive_bayes\": GaussianNB(),\n",
    "#     \"logistic_regression\": LogisticRegression(max_iter=1000),\n",
    "#     \"random_forest\": RandomForestClassifier()\n",
    "# }\n",
    "\n",
    "# for model_name, model in models_to_train.items():\n",
    "#     model.fit(X_train, y_train)\n",
    "#     y_pred = model.predict(X_test)\n",
    "#     print(f\"Accuracy score for {model_name}: {accuracy_score(y_test, y_pred)}\")\n",
    "#     print(f\"f1 score for {model_name}: {f1_score(y_test, y_pred)}\", '\\n')"
   ]
  },
  {
   "attachments": {},
   "cell_type": "markdown",
   "metadata": {},
   "source": [
    "## Balance the data "
   ]
  },
  {
   "cell_type": "code",
   "execution_count": 12,
   "metadata": {},
   "outputs": [
    {
     "name": "stdout",
     "output_type": "stream",
     "text": [
      "0    458567\n",
      "1    458567\n",
      "Name: SUCCESSFUL_TREATMENT, dtype: int64\n"
     ]
    }
   ],
   "source": [
    "ros = RandomOverSampler(random_state=42)\n",
    "X_train_res, y_train_res = ros.fit_resample(X_train, y_train)\n",
    "\n",
    "print(y_train_res.value_counts())"
   ]
  },
  {
   "cell_type": "code",
   "execution_count": 13,
   "metadata": {},
   "outputs": [],
   "source": [
    "# for model_name, model in models_to_train.items():\n",
    "#     model.fit(X_train_res, y_train_res)\n",
    "#     y_pred = model.predict(X_test)\n",
    "#     print(f\"Accuracy score for {model_name}: {accuracy_score(y_test, y_pred)}\")\n",
    "#     print(f\"Confusion matrix: \\n{confusion_matrix(y_test, y_pred)}\\n\")"
   ]
  },
  {
   "attachments": {},
   "cell_type": "markdown",
   "metadata": {},
   "source": [
    "## Tuning"
   ]
  },
  {
   "cell_type": "code",
   "execution_count": 18,
   "metadata": {},
   "outputs": [
    {
     "name": "stdout",
     "output_type": "stream",
     "text": [
      "Fitting 5 folds for each of 16 candidates, totalling 80 fits\n",
      "[CV 5/5] END max_depth=5, min_samples_leaf=2, min_samples_split=2, n_estimators=250;, score=0.655 total time= 5.3min\n",
      "[CV 1/5] END max_depth=5, min_samples_leaf=2, min_samples_split=5, n_estimators=250;, score=0.657 total time= 5.0min\n",
      "[CV 2/5] END max_depth=5, min_samples_leaf=2, min_samples_split=5, n_estimators=500;, score=0.659 total time=10.2min\n",
      "[CV 3/5] END max_depth=5, min_samples_leaf=4, min_samples_split=2, n_estimators=500;, score=0.659 total time= 9.7min\n",
      "[CV 2/5] END max_depth=5, min_samples_leaf=4, min_samples_split=5, n_estimators=500;, score=0.659 total time= 9.8min\n",
      "[CV 1/5] END max_depth=10, min_samples_leaf=2, min_samples_split=2, n_estimators=500;, score=0.691 total time=19.0min\n",
      "[CV 3/5] END max_depth=10, min_samples_leaf=2, min_samples_split=5, n_estimators=500;, score=0.690 total time=21.0min\n",
      "[CV 5/5] END max_depth=10, min_samples_leaf=4, min_samples_split=2, n_estimators=500;, score=0.688 total time=20.5min\n",
      "[CV 2/5] END max_depth=5, min_samples_leaf=2, min_samples_split=2, n_estimators=250;, score=0.659 total time= 5.3min\n",
      "[CV 2/5] END max_depth=5, min_samples_leaf=2, min_samples_split=5, n_estimators=250;, score=0.658 total time= 5.2min\n",
      "[CV 4/5] END max_depth=5, min_samples_leaf=2, min_samples_split=5, n_estimators=500;, score=0.659 total time=10.3min\n",
      "[CV 5/5] END max_depth=5, min_samples_leaf=4, min_samples_split=2, n_estimators=500;, score=0.659 total time= 9.7min\n",
      "[CV 5/5] END max_depth=5, min_samples_leaf=4, min_samples_split=5, n_estimators=500;, score=0.658 total time= 9.8min\n",
      "[CV 4/5] END max_depth=10, min_samples_leaf=2, min_samples_split=2, n_estimators=500;, score=0.692 total time=19.8min\n",
      "[CV 5/5] END max_depth=10, min_samples_leaf=2, min_samples_split=5, n_estimators=500;, score=0.689 total time=20.4min\n",
      "[CV 1/5] END max_depth=10, min_samples_leaf=4, min_samples_split=5, n_estimators=250;, score=0.690 total time=10.1min\n",
      "[CV 4/5] END max_depth=10, min_samples_leaf=4, min_samples_split=5, n_estimators=250;, score=0.691 total time=10.5min\n",
      "[CV 3/5] END max_depth=5, min_samples_leaf=2, min_samples_split=2, n_estimators=250;, score=0.659 total time= 5.3min\n",
      "[CV 5/5] END max_depth=5, min_samples_leaf=2, min_samples_split=2, n_estimators=500;, score=0.657 total time=10.2min\n",
      "[CV 1/5] END max_depth=5, min_samples_leaf=4, min_samples_split=2, n_estimators=250;, score=0.660 total time= 4.9min\n",
      "[CV 4/5] END max_depth=5, min_samples_leaf=4, min_samples_split=2, n_estimators=250;, score=0.660 total time= 4.9min\n",
      "[CV 1/5] END max_depth=5, min_samples_leaf=4, min_samples_split=5, n_estimators=250;, score=0.659 total time= 4.8min\n",
      "[CV 4/5] END max_depth=5, min_samples_leaf=4, min_samples_split=5, n_estimators=250;, score=0.660 total time= 5.0min\n",
      "[CV 2/5] END max_depth=10, min_samples_leaf=2, min_samples_split=2, n_estimators=250;, score=0.690 total time= 9.7min\n",
      "[CV 5/5] END max_depth=10, min_samples_leaf=2, min_samples_split=2, n_estimators=500;, score=0.689 total time=20.5min\n",
      "[CV 1/5] END max_depth=10, min_samples_leaf=4, min_samples_split=2, n_estimators=250;, score=0.690 total time= 9.9min\n",
      "[CV 4/5] END max_depth=10, min_samples_leaf=4, min_samples_split=2, n_estimators=250;, score=0.692 total time= 9.9min\n",
      "[CV 2/5] END max_depth=10, min_samples_leaf=4, min_samples_split=5, n_estimators=250;, score=0.691 total time= 9.8min\n",
      "[CV 5/5] END max_depth=10, min_samples_leaf=4, min_samples_split=5, n_estimators=250;, score=0.689 total time= 9.2min\n",
      "[CV 1/5] END max_depth=5, min_samples_leaf=2, min_samples_split=2, n_estimators=500;, score=0.657 total time=10.2min\n",
      "[CV 4/5] END max_depth=5, min_samples_leaf=2, min_samples_split=5, n_estimators=250;, score=0.659 total time= 5.3min\n",
      "[CV 5/5] END max_depth=5, min_samples_leaf=2, min_samples_split=5, n_estimators=500;, score=0.659 total time=10.0min\n",
      "[CV 3/5] END max_depth=5, min_samples_leaf=4, min_samples_split=5, n_estimators=250;, score=0.658 total time= 4.8min\n",
      "[CV 4/5] END max_depth=5, min_samples_leaf=4, min_samples_split=5, n_estimators=500;, score=0.658 total time= 9.8min\n",
      "[CV 2/5] END max_depth=10, min_samples_leaf=2, min_samples_split=2, n_estimators=500;, score=0.691 total time=19.0min\n",
      "[CV 4/5] END max_depth=10, min_samples_leaf=2, min_samples_split=5, n_estimators=500;, score=0.692 total time=19.5min\n",
      "[CV 3/5] END max_depth=10, min_samples_leaf=4, min_samples_split=2, n_estimators=500;, score=0.690 total time=18.3min\n",
      "[CV 2/5] END max_depth=10, min_samples_leaf=4, min_samples_split=5, n_estimators=500;, score=0.690 total time=14.1min\n",
      "[CV 3/5] END max_depth=5, min_samples_leaf=2, min_samples_split=2, n_estimators=500;, score=0.658 total time=10.3min\n",
      "[CV 5/5] END max_depth=5, min_samples_leaf=2, min_samples_split=5, n_estimators=250;, score=0.659 total time= 5.2min\n",
      "[CV 2/5] END max_depth=5, min_samples_leaf=4, min_samples_split=2, n_estimators=250;, score=0.659 total time= 4.9min\n",
      "[CV 5/5] END max_depth=5, min_samples_leaf=4, min_samples_split=2, n_estimators=250;, score=0.658 total time= 4.9min\n",
      "[CV 2/5] END max_depth=5, min_samples_leaf=4, min_samples_split=5, n_estimators=250;, score=0.657 total time= 4.9min\n",
      "[CV 3/5] END max_depth=5, min_samples_leaf=4, min_samples_split=5, n_estimators=500;, score=0.658 total time= 9.9min\n",
      "[CV 3/5] END max_depth=10, min_samples_leaf=2, min_samples_split=2, n_estimators=500;, score=0.691 total time=18.5min\n",
      "[CV 1/5] END max_depth=10, min_samples_leaf=2, min_samples_split=5, n_estimators=500;, score=0.691 total time=20.5min\n",
      "[CV 4/5] END max_depth=10, min_samples_leaf=4, min_samples_split=2, n_estimators=500;, score=0.692 total time=18.1min\n",
      "[CV 4/5] END max_depth=10, min_samples_leaf=4, min_samples_split=5, n_estimators=500;, score=0.692 total time=14.3min\n",
      "[CV 4/5] END max_depth=5, min_samples_leaf=2, min_samples_split=2, n_estimators=250;, score=0.659 total time= 5.3min\n",
      "[CV 3/5] END max_depth=5, min_samples_leaf=2, min_samples_split=5, n_estimators=250;, score=0.658 total time= 5.1min\n",
      "[CV 3/5] END max_depth=5, min_samples_leaf=2, min_samples_split=5, n_estimators=500;, score=0.660 total time=10.1min\n",
      "[CV 1/5] END max_depth=5, min_samples_leaf=4, min_samples_split=2, n_estimators=500;, score=0.657 total time= 9.7min\n",
      "[CV 5/5] END max_depth=5, min_samples_leaf=4, min_samples_split=5, n_estimators=250;, score=0.658 total time= 5.0min\n",
      "[CV 3/5] END max_depth=10, min_samples_leaf=2, min_samples_split=2, n_estimators=250;, score=0.691 total time=10.2min\n",
      "[CV 1/5] END max_depth=10, min_samples_leaf=2, min_samples_split=5, n_estimators=250;, score=0.689 total time=10.7min\n",
      "[CV 4/5] END max_depth=10, min_samples_leaf=2, min_samples_split=5, n_estimators=250;, score=0.692 total time=10.6min\n",
      "[CV 2/5] END max_depth=10, min_samples_leaf=4, min_samples_split=2, n_estimators=250;, score=0.690 total time= 9.9min\n",
      "[CV 5/5] END max_depth=10, min_samples_leaf=4, min_samples_split=2, n_estimators=250;, score=0.689 total time= 9.5min\n",
      "[CV 3/5] END max_depth=10, min_samples_leaf=4, min_samples_split=5, n_estimators=250;, score=0.689 total time= 9.7min\n",
      "[CV 1/5] END max_depth=10, min_samples_leaf=4, min_samples_split=5, n_estimators=500;, score=0.690 total time=16.0min\n",
      "[CV 2/5] END max_depth=5, min_samples_leaf=2, min_samples_split=2, n_estimators=500;, score=0.659 total time=10.3min\n",
      "[CV 1/5] END max_depth=5, min_samples_leaf=2, min_samples_split=5, n_estimators=500;, score=0.658 total time=10.2min\n",
      "[CV 2/5] END max_depth=5, min_samples_leaf=4, min_samples_split=2, n_estimators=500;, score=0.659 total time= 9.7min\n",
      "[CV 1/5] END max_depth=5, min_samples_leaf=4, min_samples_split=5, n_estimators=500;, score=0.657 total time= 9.7min\n",
      "[CV 5/5] END max_depth=10, min_samples_leaf=2, min_samples_split=2, n_estimators=250;, score=0.689 total time= 8.9min\n",
      "[CV 3/5] END max_depth=10, min_samples_leaf=2, min_samples_split=5, n_estimators=250;, score=0.690 total time= 9.5min\n",
      "[CV 5/5] END max_depth=10, min_samples_leaf=2, min_samples_split=5, n_estimators=250;, score=0.688 total time= 9.9min\n",
      "[CV 3/5] END max_depth=10, min_samples_leaf=4, min_samples_split=2, n_estimators=250;, score=0.689 total time= 9.7min\n",
      "[CV 1/5] END max_depth=10, min_samples_leaf=4, min_samples_split=2, n_estimators=500;, score=0.690 total time=19.0min\n",
      "[CV 3/5] END max_depth=10, min_samples_leaf=4, min_samples_split=5, n_estimators=500;, score=0.689 total time=16.1min\n",
      "[CV 1/5] END max_depth=5, min_samples_leaf=2, min_samples_split=2, n_estimators=250;, score=0.660 total time= 5.2min\n",
      "[CV 4/5] END max_depth=5, min_samples_leaf=2, min_samples_split=2, n_estimators=500;, score=0.660 total time=10.4min\n",
      "[CV 3/5] END max_depth=5, min_samples_leaf=4, min_samples_split=2, n_estimators=250;, score=0.659 total time= 5.0min\n",
      "[CV 4/5] END max_depth=5, min_samples_leaf=4, min_samples_split=2, n_estimators=500;, score=0.660 total time=10.0min\n",
      "[CV 1/5] END max_depth=10, min_samples_leaf=2, min_samples_split=2, n_estimators=250;, score=0.690 total time= 8.8min\n",
      "[CV 4/5] END max_depth=10, min_samples_leaf=2, min_samples_split=2, n_estimators=250;, score=0.691 total time= 8.8min\n",
      "[CV 2/5] END max_depth=10, min_samples_leaf=2, min_samples_split=5, n_estimators=250;, score=0.692 total time=10.7min\n",
      "[CV 2/5] END max_depth=10, min_samples_leaf=2, min_samples_split=5, n_estimators=500;, score=0.690 total time=19.4min\n",
      "[CV 2/5] END max_depth=10, min_samples_leaf=4, min_samples_split=2, n_estimators=500;, score=0.690 total time=19.3min\n",
      "[CV 5/5] END max_depth=10, min_samples_leaf=4, min_samples_split=5, n_estimators=500;, score=0.688 total time=16.6min\n",
      "Best parameters:  {'max_depth': 10, 'min_samples_leaf': 2, 'min_samples_split': 2, 'n_estimators': 500}\n"
     ]
    },
    {
     "data": {
      "text/plain": [
       "['best_random_forest.pkl']"
      ]
     },
     "execution_count": 18,
     "metadata": {},
     "output_type": "execute_result"
    }
   ],
   "source": [
    "# Define the parameter grid\n",
    "param_grid = {\n",
    "    'n_estimators': [250, 500], #100, 200, 400, \n",
    "    'max_depth': [5,10], #5, 15, None\n",
    "    'min_samples_split': [2, 5], #2,10\n",
    "    'min_samples_leaf': [2,4] #1,4\n",
    "}\n",
    "\n",
    "# Define model\n",
    "rf = RandomForestClassifier()\n",
    "\n",
    "# Grid\n",
    "grid_search = GridSearchCV(estimator=rf, param_grid=param_grid, cv=5, n_jobs=-1, verbose=3)\n",
    "\n",
    "# Fit the grid search to the data\n",
    "grid_search.fit(X_train_res, y_train_res)\n",
    "\n",
    "# Print the best parameters\n",
    "print(\"Best parameters: \", grid_search.best_params_)\n",
    "\n",
    "# Save the model\n",
    "joblib.dump(grid_search.best_estimator_, 'best_random_forest.pkl')"
   ]
  }
 ],
 "metadata": {
  "environment": {
   "kernel": "python3",
   "name": "common-cpu.m109",
   "type": "gcloud",
   "uri": "gcr.io/deeplearning-platform-release/base-cpu:m109"
  },
  "kernelspec": {
   "display_name": "Python 3",
   "language": "python",
   "name": "python3"
  },
  "language_info": {
   "codemirror_mode": {
    "name": "ipython",
    "version": 3
   },
   "file_extension": ".py",
   "mimetype": "text/x-python",
   "name": "python",
   "nbconvert_exporter": "python",
   "pygments_lexer": "ipython3",
   "version": "3.10.11"
  }
 },
 "nbformat": 4,
 "nbformat_minor": 4
}
