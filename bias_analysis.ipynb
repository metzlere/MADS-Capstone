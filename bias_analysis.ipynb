{
 "cells": [
  {
   "cell_type": "code",
   "execution_count": 1,
   "id": "b78aa041",
   "metadata": {},
   "outputs": [],
   "source": [
    "import numpy as np\n",
    "import pandas as pd\n",
    "from sklearn.model_selection import train_test_split\n",
    "import xgboost\n",
    "from sklearn.ensemble import RandomForestClassifier\n",
    "import joblib\n",
    "from joblib import load\n",
    "import lime\n",
    "import lime.lime_tabular\n",
    "import shap"
   ]
  },
  {
   "cell_type": "code",
   "execution_count": 2,
   "id": "1ae3208a",
   "metadata": {},
   "outputs": [],
   "source": [
    "#pip install nvidia-cuda-toolkit"
   ]
  },
  {
   "cell_type": "code",
   "execution_count": 3,
   "id": "10d62bda",
   "metadata": {},
   "outputs": [],
   "source": [
    "#I had to downgrade sklearn for joblib to load the dataset correctly\n",
    "\n",
    "#pip uninstall sklearn --yes\n",
    "#pip install -v scikit-learn==1.2.2"
   ]
  },
  {
   "cell_type": "code",
   "execution_count": 4,
   "id": "6e5785eb",
   "metadata": {},
   "outputs": [],
   "source": [
    "#loading in trained model\n",
    "model = joblib.load('model_final.pkl')"
   ]
  },
  {
   "cell_type": "code",
   "execution_count": 5,
   "id": "cd14cb5c",
   "metadata": {},
   "outputs": [
    {
     "data": {
      "text/plain": [
       "sklearn.ensemble._forest.RandomForestClassifier"
      ]
     },
     "execution_count": 5,
     "metadata": {},
     "output_type": "execute_result"
    }
   ],
   "source": [
    "#making sure the model loaded correctly\n",
    "type(model)"
   ]
  },
  {
   "cell_type": "code",
   "execution_count": 6,
   "id": "bc29d800",
   "metadata": {},
   "outputs": [],
   "source": [
    "df = pd.read_csv(\"cleaned_data.csv\")"
   ]
  },
  {
   "cell_type": "code",
   "execution_count": 7,
   "id": "0457e07f",
   "metadata": {},
   "outputs": [
    {
     "name": "stdout",
     "output_type": "stream",
     "text": [
      "Index(['AGE', 'GENDER', 'RACE', 'MARITAL_STATUS', 'EDUCATION',\n",
      "       'EMPLOYMENT_AT_ADMISSION', 'LIVING_ARRANGEMENT_AT_ADMISSION',\n",
      "       'ARRESTS_IN_30_DAYS_PRIOR_TO_ADMISSION', 'SERVICES_AT_ADMISSION',\n",
      "       'REASON_FOR_DISCHARGE', 'PRIMARY_SOURCE_OF_REFERRAL',\n",
      "       'PRIOR_TREATMENT_EPISODES', 'PRIMARY_SUBSTANCE_ABUSE',\n",
      "       'FREQUENCY_OF_USE', 'AGE_AT_FIRST_USE', 'ALCOHOL_OR_DRUG_ABUSE',\n",
      "       'DSM_DIAGNOSIS', 'PSYCHIATRIC_PROBLEM', 'HEALTH_INSURANCE',\n",
      "       'PRIMARY_PAYMENT_METHOD', 'FREQUENCY_OF_SELF_HELP_ATTENDANCE', 'STATE'],\n",
      "      dtype='object')\n",
      "(2000000, 22)\n"
     ]
    }
   ],
   "source": [
    "# take random sample of dataframe to reduce size\n",
    "df = df.sample(n=2000000, random_state=42)\n",
    "\n",
    "df = df.drop(columns=['YEAR_OF_DISCHARGE'])\n",
    "\n",
    "print(df.columns)\n",
    "print(df.shape)\n",
    "\n"
   ]
  },
  {
   "cell_type": "code",
   "execution_count": 8,
   "id": "04ecb268",
   "metadata": {},
   "outputs": [],
   "source": [
    "#removing/filtering 'transferred to another treatment' option from data\n",
    "df = df[df['REASON_FOR_DISCHARGE'] != 'Transferred to another treatment program or facility']"
   ]
  },
  {
   "cell_type": "code",
   "execution_count": 9,
   "id": "b47d3fb4",
   "metadata": {},
   "outputs": [
    {
     "name": "stdout",
     "output_type": "stream",
     "text": [
      "0    1293487\n",
      "1     277163\n",
      "Name: SUCCESSFUL_TREATMENT, dtype: int64\n"
     ]
    }
   ],
   "source": [
    "# Create target variable. If the patient completed treatment and had no prior treatment episodes,\n",
    "#they are considered a success. Otherwise, they are considered a failure.\n",
    "\n",
    "df['SUCCESSFUL_TREATMENT'] = df.apply(lambda row: 1 if row['REASON_FOR_DISCHARGE'] == 'Treatment completed' and row['PRIOR_TREATMENT_EPISODES'] == \"No prior treatment episode\" else 0, axis=1)\n",
    "\n",
    "print(df['SUCCESSFUL_TREATMENT'].value_counts())"
   ]
  },
  {
   "cell_type": "code",
   "execution_count": 10,
   "id": "616e6c92",
   "metadata": {},
   "outputs": [],
   "source": [
    "#creating train/test splits\n",
    "target = df['SUCCESSFUL_TREATMENT']\n",
    "features = df.drop(['REASON_FOR_DISCHARGE', 'PRIOR_TREATMENT_EPISODES', 'SUCCESSFUL_TREATMENT'], axis=1)\n",
    "features_one_hot = pd.get_dummies(features)"
   ]
  },
  {
   "cell_type": "markdown",
   "id": "8964a7e7",
   "metadata": {},
   "source": [
    "# LIME for Bias Analysis"
   ]
  },
  {
   "cell_type": "code",
   "execution_count": 73,
   "id": "5909f9c8",
   "metadata": {},
   "outputs": [
    {
     "name": "stderr",
     "output_type": "stream",
     "text": [
      "X does not have valid feature names, but RandomForestClassifier was fitted with feature names\n"
     ]
    },
    {
     "name": "stdout",
     "output_type": "stream",
     "text": [
      "[('STATE_South Dakota <= 0.00', 0.11483438318434425), ('PRIMARY_SUBSTANCE_ABUSE_Heroin > 0.00', -0.09289823144747197), ('STATE_Michigan <= 0.00', 0.0722373958165178), ('STATE_North Carolina <= 0.00', 0.07170980489701434), ('STATE_North Dakota <= 0.00', -0.0611929809545058), ('STATE_Georgia <= 0.00', -0.05630114018246065), ('STATE_Hawaii <= 0.00', 0.047688552814234564), ('0.00 < PSYCHIATRIC_PROBLEM_No <= 1.00', 0.04648812647842795), ('STATE_Colorado <= 0.00', -0.04483102877307794), ('STATE_Alabama <= 0.00', 0.03998599200931786), ('ARRESTS_IN_30_DAYS_PRIOR_TO_ADMISSION_Not known <= 0.00', 0.033863207873516835), ('STATE_California <= 0.00', -0.03364684528859837), ('STATE_Iowa <= 0.00', 0.03296179293252697), ('STATE_District of Columbia <= 0.00', 0.02791441729117441), ('PSYCHIATRIC_PROBLEM_Yes <= 0.00', 0.0274376049294325), ('DSM_DIAGNOSIS_Opioid dependence > 0.00', -0.026648383574955675), ('FREQUENCY_OF_SELF_HELP_ATTENDANCE_No attendance <= 0.00', -0.024928030573987785), ('PRIMARY_SOURCE_OF_REFERRAL_Alcohol/drug use care provider <= 0.00', 0.02438918100611497), ('ALCOHOL_OR_DRUG_ABUSE_Alcohol only <= 0.00', -0.02389427369122845), ('STATE_Pennsylvania <= 0.00', -0.020239137557067206), ('PRIMARY_SUBSTANCE_ABUSE_Marijuana/hashish <= 0.00', -0.018940554008190075), ('EDUCATION_Not known <= 0.00', -0.018852319126917927), ('DSM_DIAGNOSIS_Other mental health condition <= 0.00', 0.018614519544376217), ('HEALTH_INSURANCE_Medicaid > 0.00', -0.01849214039236408), ('STATE_New Hampshire <= 0.00', -0.01765918680892872), ('PRIMARY_SOURCE_OF_REFERRAL_Court/criminal justice referral/DUI/DWI <= 0.00', -0.01703231829231957), ('PSYCHIATRIC_PROBLEM_Not known <= 0.00', 0.01537429037300468), ('AGE_15-17 <= 0.00', -0.015259126489363341), ('SERVICES_AT_ADMISSION_Ambulatory, intensive outpatient <= 0.00', 0.015099561339445889), ('EMPLOYMENT_AT_ADMISSION_Full time > 0.00', 0.01492492693552726), ('PRIMARY_PAYMENT_METHOD_Medicaid <= 0.00', 0.014861716958048912), ('STATE_Nevada <= 0.00', 0.014198302032613118), ('ALCOHOL_OR_DRUG_ABUSE_None <= 0.00', -0.01388574509251148), ('STATE_Arkansas <= 0.00', 0.013161846649252096), ('DSM_DIAGNOSIS_Alcohol abuse <= 0.00', -0.012936782415702983), ('FREQUENCY_OF_SELF_HELP_ATTENDANCE_Not known > 0.00', -0.012335043534285208), ('DSM_DIAGNOSIS_Cannabis abuse <= 0.00', -0.01204434451106153), ('FREQUENCY_OF_USE_Daily use <= 0.00', 0.01168270494862749), ('0.00 < ALCOHOL_OR_DRUG_ABUSE_Alcohol and other drugs <= 1.00', -0.011528845122209221), ('STATE_Utah <= 0.00', -0.011469295898592354), ('HEALTH_INSURANCE_Private insurance, Blue Cross/Blue Shield, HMO <= 0.00', -0.011134120929963843), ('MARITAL_STATUS_Not known <= 0.00', -0.01081805388186394), ('PRIMARY_SOURCE_OF_REFERRAL_Individual (includes self-referral) <= 0.00', 0.01067206160361808), ('DSM_DIAGNOSIS_Bipolar disorders <= 0.00', 0.010526306143653226), ('STATE_Minnesota <= 0.00', 0.010418881858395878), ('STATE_Montana <= 0.00', 0.01027591273015957), ('STATE_Kansas <= 0.00', -0.010209302226700658), ('STATE_Texas <= 0.00', -0.009963758306263275), ('FREQUENCY_OF_SELF_HELP_ATTENDANCE_Some attendance, frequency is unknown <= 0.00', 0.009258968696587912), ('STATE_Massachusetts <= 0.00', 0.00919558984736184), ('PRIMARY_SOURCE_OF_REFERRAL_Not known <= 0.00', 0.009084793706073954), ('STATE_Delaware <= 0.00', 0.009069604367344802), ('PRIMARY_SUBSTANCE_ABUSE_Alcohol <= 0.00', -0.009018274151252325), ('PRIMARY_PAYMENT_METHOD_Not known <= 0.00', 0.008918417864695374), ('AGE_12-14 <= 0.00', -0.00884902222705557), ('PRIMARY_SUBSTANCE_ABUSE_None <= 0.00', -0.00823130733705004), ('RACE_Native Hawaiian or Other Pacific Islander <= 0.00', -0.008228648344343573), ('PRIMARY_PAYMENT_METHOD_Private insurance (Blue Cross/Blue Shield, other health insurance, workers compensation) <= 0.00', -0.00750785926686895), ('DSM_DIAGNOSIS_Cocaine abuse <= 0.00', -0.00747625060150392), ('SERVICES_AT_ADMISSION_Detox, 24-hour, free-standing residential <= 0.00', -0.007369251361663788), ('STATE_Oklahoma <= 0.00', 0.007321227949762778), ('DSM_DIAGNOSIS_Depressive disorders <= 0.00', 0.007104489423772906), ('STATE_Vermont <= 0.00', -0.007024085423132692), ('EMPLOYMENT_AT_ADMISSION_Not known <= 0.00', 0.0068685439465227625), ('EMPLOYMENT_AT_ADMISSION_Unemployed <= 0.00', 0.0067308782670696555), ('STATE_Puerto Rico <= 0.00', -0.006554281543164805), ('STATE_Rhode Island <= 0.00', -0.0059546319655759145), ('LIVING_ARRANGEMENT_AT_ADMISSION_Homeless <= 0.00', 0.005858448792436689), ('PRIMARY_SUBSTANCE_ABUSE_PCP <= 0.00', -0.005776906207599012), ('ALCOHOL_OR_DRUG_ABUSE_Other drugs only <= 0.00', 0.00570212305933011), ('STATE_Mississippi <= 0.00', -0.005534151328486611), ('RACE_Asian or Pacific Islander <= 0.00', -0.00541143624275913), ('PRIMARY_PAYMENT_METHOD_No charge (free, charity, special research, teaching) <= 0.00', 0.005285124135011878), ('PRIMARY_SUBSTANCE_ABUSE_Other sedatives or hypnotics <= 0.00', -0.0049769599014192235), ('RACE_Two or more races <= 0.00', -0.004802603869250384), ('PRIMARY_SUBSTANCE_ABUSE_Inhalants <= 0.00', -0.004769910965342859), ('EMPLOYMENT_AT_ADMISSION_Not in labor force <= 0.00', 0.004696775342599581), ('STATE_Louisiana <= 0.00', -0.004683716367495887), ('DSM_DIAGNOSIS_Alcohol-induced disorder <= 0.00', 0.004595097661804518), ('FREQUENCY_OF_USE_Not known <= 0.00', -0.004565134085059586), ('PRIMARY_PAYMENT_METHOD_Other government payments <= 0.00', -0.004434395717036383), ('SERVICES_AT_ADMISSION_Rehab/residential, hospital (non-detox) <= 0.00', -0.004138002204672659), ('LIVING_ARRANGEMENT_AT_ADMISSION_Not known <= 0.00', -0.0038984718989671405), ('AGE_AT_FIRST_USE_18-20 years <= 0.00', -0.003612676099538116), ('FREQUENCY_OF_SELF_HELP_ATTENDANCE_8-30 times in the past month <= 0.00', 0.0035619960976839967), ('STATE_Ohio <= 0.00', 0.0034415577372360773), ('STATE_Maine <= 0.00', 0.003437819674527047), ('AGE_18-20 <= 0.00', -0.0033996696637976728), ('PRIMARY_PAYMENT_METHOD_Other <= 0.00', 0.0032727758148503694), ('EDUCATION_Less than one school grade, no schooling, nursery school, or kindergarten to Grade 8 <= 0.00', 0.0031885527288221622), ('DSM_DIAGNOSIS_Anxiety disorders <= 0.00', -0.0031208828485510863), ('PRIMARY_SOURCE_OF_REFERRAL_School (educational) <= 0.00', -0.0030936195862266815), ('RACE_Not known <= 0.00', -0.003058201566064738), ('STATE_Idaho <= 0.00', -0.0029895977208067195), ('PRIMARY_SUBSTANCE_ABUSE_Methamphetamine/speed <= 0.00', -0.0029456305306257654), ('PRIMARY_SUBSTANCE_ABUSE_Cocaine/crack <= 0.00', 0.002886217751252757), ('DSM_DIAGNOSIS_Substance-induced disorder <= 0.00', -0.002861785175808542), ('SERVICES_AT_ADMISSION_Rehab/residential, short term (30 days or fewer) <= 0.00', -0.002720054273561311), ('0.00 < SERVICES_AT_ADMISSION_Ambulatory, non-intensive outpatient <= 1.00', -0.0026550021498827642), ('STATE_Indiana <= 0.00', 0.0026189876087576464), ('PRIMARY_PAYMENT_METHOD_Self-pay > 0.00', 0.0025771935200997564), ('PRIMARY_SUBSTANCE_ABUSE_Other drugs <= 0.00', 0.0025710229168425325), ('AGE_AT_FIRST_USE_12-14 years > 0.00', -0.002555438844578245), ('0.00 < MARITAL_STATUS_Never married <= 1.00', -0.0024563265889000607), ('STATE_Illinois <= 0.00', 0.0024291357149267894), ('PRIMARY_SUBSTANCE_ABUSE_Other stimulants <= 0.00', 0.002365252313944413), ('AGE_65+ <= 0.00', 0.0023425395167346193), ('PRIMARY_SUBSTANCE_ABUSE_Hallucinogens <= 0.00', -0.0023301624518624734), ('DSM_DIAGNOSIS_Cannabis dependence <= 0.00', 0.0022368163161100366), ('ARRESTS_IN_30_DAYS_PRIOR_TO_ADMISSION_Once <= 0.00', -0.0021950795964076905), ('STATE_Virginia <= 0.00', 0.0021101296010922394), ('HEALTH_INSURANCE_Not known <= 0.00', -0.0020170479168061463), ('RACE_Black or African American <= 0.00', 0.0020169006066400865), ('PRIMARY_SUBSTANCE_ABUSE_Barbiturates <= 0.00', -0.002013850137936762), ('RACE_Alaskan Native <= 0.00', 0.001947097954076245), ('PRIMARY_SUBSTANCE_ABUSE_Other amphetamines <= 0.00', 0.0018802946318104683), ('STATE_Alaska <= 0.00', 0.0018687632104244594), ('PRIMARY_SUBSTANCE_ABUSE_Benzodiazepines <= 0.00', 0.001848878030196244), ('PRIMARY_SOURCE_OF_REFERRAL_Other health care provider <= 0.00', -0.0018264565163363603), ('SERVICES_AT_ADMISSION_Ambulatory, detoxification <= 0.00', 0.0018000183511271209), ('DSM_DIAGNOSIS_Other substance dependence <= 0.00', -0.0017685747009065773), ('EMPLOYMENT_AT_ADMISSION_Part time <= 0.00', -0.0017509498124366211), ('DSM_DIAGNOSIS_Not known <= 0.00', -0.001662535605173403), ('DSM_DIAGNOSIS_Cocaine dependence <= 0.00', 0.001608506960809622), ('MARITAL_STATUS_Now Married <= 0.00', -0.0015938058916715474), ('AGE_40-44 <= 0.00', -0.0015556566508964948), ('EDUCATION_4 years of college, university, BA/BS, some postgraduate study, or more <= 0.00', -0.0015164734509648474), ('HEALTH_INSURANCE_None <= 0.00', 0.0015012944001339043), ('PRIMARY_SUBSTANCE_ABUSE_Over-the-counter medications <= 0.00', -0.0014757247463411227), ('STATE_Maryland <= 0.00', -0.0014630516563306631), ('STATE_Tennessee <= 0.00', -0.0014336376284181395), ('AGE_21-24 <= 0.00', -0.0014049857595582395), ('STATE_Florida <= 0.00', -0.0013436359941170573), ('SERVICES_AT_ADMISSION_Rehab/residential, long term (more than 30 days) <= 0.00', -0.0012182445405084677), ('RACE_Asian <= 0.00', 0.0011964283728218912), ('PRIMARY_SOURCE_OF_REFERRAL_Employer/EAP <= 0.00', 0.0011785284004870952), ('STATE_Nebraska <= 0.00', -0.0011651963210916323), ('RACE_American Indian <= 0.00', -0.0011256050477152768), ('0.00 < RACE_White <= 1.00', 0.0011168972094304029), ('STATE_New Jersey > 0.00', 0.0010745401647546129), ('DSM_DIAGNOSIS_Alcohol dependence <= 0.00', 0.0010574916619546244), ('STATE_Kentucky <= 0.00', -0.0010473109057994), ('STATE_Washington <= 0.00', 0.0009837467573782334), ('AGE_AT_FIRST_USE_11 years and under <= 0.00', -0.0008997978218956419), ('DSM_DIAGNOSIS_Other substance abuse <= 0.00', -0.0008729979151198572), ('STATE_Missouri <= 0.00', -0.0008533865161753613), ('AGE_AT_FIRST_USE_Not known <= 0.00', -0.0008524437552605043), ('AGE_AT_FIRST_USE_21-24 years <= 0.00', 0.0008431585133756266), ('AGE_25-29 > 0.00', -0.0008236579471424463), ('DSM_DIAGNOSIS_Alcohol intoxication <= 0.00', -0.0007940467998191324), ('EDUCATION_Grades 9 to 11 <= 0.00', 0.0007921140278207559), ('SERVICES_AT_ADMISSION_Detox, 24-hour, hospital inpatient <= 0.00', 0.0007872060696815893), ('AGE_AT_FIRST_USE_30 years and older <= 0.00', 0.0007864307485245106), ('STATE_Wyoming <= 0.00', -0.0007712713053576657), ('FREQUENCY_OF_USE_Some use <= 0.00', 0.0007612874184672099), ('PRIMARY_PAYMENT_METHOD_Medicare <= 0.00', 0.0007574425353368413), ('HEALTH_INSURANCE_Medicare, other (e.g. TRICARE, CHAMPUS) <= 0.00', -0.0007484649530193305), ('STATE_Connecticut <= 0.00', -0.0007435382954661454), ('AGE_AT_FIRST_USE_15-17 years <= 0.00', -0.0007036850784198098), ('FREQUENCY_OF_SELF_HELP_ATTENDANCE_4-7 times in the past month <= 0.00', -0.0006882191438215979), ('PRIMARY_SOURCE_OF_REFERRAL_Other community referral > 0.00', 0.0006762932262340651), ('FREQUENCY_OF_SELF_HELP_ATTENDANCE_1-3 times in the past month <= 0.00', 0.0006536781894457052), ('DSM_DIAGNOSIS_Schizophrenia/other psychotic disorders <= 0.00', -0.0006363846664799658), ('AGE_35-39 <= 0.00', 0.0005902033135768703), ('AGE_45-49 <= 0.00', 0.0005719569425053002), ('AGE_50-54 <= 0.00', 0.0005578298974996705), ('STATE_South Carolina <= 0.00', -0.0005347702784202164), ('EDUCATION_1-3 years of college, university, or vocational school <= 0.00', 0.0005171964997039179), ('MARITAL_STATUS_Divorced, widowed <= 0.00', 0.0005045532239973263), ('0.00 < EDUCATION_Grade 12 (or GED) <= 1.00', -0.0004684612504095438), ('FREQUENCY_OF_USE_No use in the past month > 0.00', -0.00046462196527829737), ('LIVING_ARRANGEMENT_AT_ADMISSION_Dependent living <= 0.00', 0.00044086825788111026), ('PRIMARY_SUBSTANCE_ABUSE_Non-prescription methadone <= 0.00', -0.00030846777482381317), ('STATE_New York <= 0.00', -0.00030742424954313625), ('STATE_Arizona <= 0.00', 0.0002857423020704774), ('GENDER_Female <= 0.00', 0.00026955705713576175), ('0.00 < LIVING_ARRANGEMENT_AT_ADMISSION_Independent living <= 1.00', 0.00022877218858519897), ('RACE_Other single race <= 0.00', 0.00020424638084025492), ('PRIMARY_SUBSTANCE_ABUSE_Not known <= 0.00', 0.00020206559212043347), ('DSM_DIAGNOSIS_Opioid abuse <= 0.00', -0.00019105682743736387), ('AGE_55-64 <= 0.00', 0.00018530634410535537), ('MARITAL_STATUS_Separated <= 0.00', -0.0001058849035185531), ('AGE_AT_FIRST_USE_25-29 years <= 0.00', -0.00010566988009578991), ('0.00 < GENDER_Male <= 1.00', 5.760938416416166e-05), ('STATE_Wisconsin <= 0.00', 5.322207764651131e-05), ('PRIMARY_SUBSTANCE_ABUSE_Other opiates and synthetics <= 0.00', -3.840883254065575e-05), ('ARRESTS_IN_30_DAYS_PRIOR_TO_ADMISSION_Two or more times <= 0.00', 2.59561144896858e-05), ('AGE_30-34 <= 0.00', 1.9525003920366283e-05), ('ARRESTS_IN_30_DAYS_PRIOR_TO_ADMISSION_None <= 1.00', 0.0), ('PRIMARY_SUBSTANCE_ABUSE_Other tranquilizers <= 0.00', 0.0), ('STATE_New Mexico <= 0.00', 0.0), ('DSM_DIAGNOSIS_Attention deficit/disruptive behavior disorders <= 0.00', 0.0), ('GENDER_Not known <= 0.00', 0.0)]\n"
     ]
    }
   ],
   "source": [
    "explainer = lime.lime_tabular.LimeTabularExplainer(\n",
    "    training_data=np.array(features_one_hot),\n",
    "    feature_names=features_one_hot.columns,\n",
    "    class_names=['0', '1'],\n",
    "    training_labels=df['SUCCESSFUL_TREATMENT']\n",
    ")\n",
    "\n",
    "# Explain the predictions for a specific instance\n",
    "i = 10\n",
    "exp = explainer.explain_instance(features_one_hot.iloc[i], model.predict_proba, num_features=193)\n",
    "print(exp.as_list())\n",
    "#exp.show_in_notebook(show_table=True)"
   ]
  },
  {
   "cell_type": "code",
   "execution_count": 74,
   "id": "8265df33",
   "metadata": {},
   "outputs": [
    {
     "data": {
      "text/plain": [
       "[('RACE_Native Hawaiian or Other Pacific Islander <= 0.00', -0.0082286483),\n",
       " ('RACE_Asian or Pacific Islander <= 0.00', -0.0054114362),\n",
       " ('RACE_Two or more races <= 0.00', -0.0048026039),\n",
       " ('RACE_Not known <= 0.00', -0.0030582016),\n",
       " ('RACE_American Indian <= 0.00', -0.001125605),\n",
       " ('RACE_Other single race <= 0.00', 0.0002042464),\n",
       " ('RACE_Asian <= 0.00', 0.0011964284),\n",
       " ('RACE_Alaskan Native <= 0.00', 0.001947098),\n",
       " ('RACE_Black or African American <= 0.00', 0.0020169006)]"
      ]
     },
     "execution_count": 74,
     "metadata": {},
     "output_type": "execute_result"
    }
   ],
   "source": [
    "#creating list of lime explainer output\n",
    "exp_list = exp.as_list()\n",
    "\n",
    "#sorting, rounding, and filtering the list of tuples via the RACE variables\n",
    "exp_list_rounded = [(item[0],round(item[1],10)) for item in exp_list]\n",
    "exp_list_sorted = sorted(exp_list_rounded, key=lambda x: x[1])\n",
    "exp_list_filtered_race = [t for t in exp_list_sorted if t[0].startswith('RACE_')]\n",
    "exp_list_filtered_race"
   ]
  },
  {
   "cell_type": "markdown",
   "id": "8a5f06db",
   "metadata": {},
   "source": [
    "# SHAP for Bias Analysis"
   ]
  },
  {
   "cell_type": "code",
   "execution_count": 21,
   "id": "83c4e683",
   "metadata": {},
   "outputs": [],
   "source": [
    "needed_features = features_one_hot_sample[['RACE_Black or African American','RACE_White','RACE_Other single race', 'RACE_American Indian', 'RACE_Asian or Pacific Islander', 'RACE_Two or more races','RACE_Alaskan Native',\n",
    " 'RACE_Native Hawaiian or Other Pacific Islander','RACE_Asian','RACE_Not known']]"
   ]
  },
  {
   "cell_type": "code",
   "execution_count": 45,
   "id": "07f6ff32",
   "metadata": {},
   "outputs": [],
   "source": [
    "# Sampling data due to high computational need for SHAP\n",
    "features_one_hot_sample = features_one_hot.sample(n=500, random_state=42)"
   ]
  },
  {
   "cell_type": "code",
   "execution_count": 51,
   "id": "4c5ff47a",
   "metadata": {},
   "outputs": [
    {
     "data": {
      "image/png": "[encoded data removed]",
      "text/plain": [
       "<Figure size 576x396 with 1 Axes>"
      ]
     },
     "metadata": {
      "needs_background": "light"
     },
     "output_type": "display_data"
    }
   ],
   "source": [
    "#setting up SHAP for Bias Analysis\n",
    "\n",
    "# Create an explainer object\n",
    "explainer =  shap.TreeExplainer(model)\n",
    "\n",
    "# Creating shap_values\n",
    "shap_values = explainer.shap_values(features_one_hot_sample)\n",
    "\n",
    "# Plots the top ten most impactful variables for the model\n",
    "shap.summary_plot(shap_values, features_one_hot_sample, max_display=10)\n",
    "\n",
    "# Print the explanation\n",
    "#print(shap_values)"
   ]
  },
  {
   "cell_type": "code",
   "execution_count": 53,
   "id": "3cd68606",
   "metadata": {},
   "outputs": [
    {
     "data": {
      "text/html": [
       "<div>\n",
       "<style scoped>\n",
       "    .dataframe tbody tr th:only-of-type {\n",
       "        vertical-align: middle;\n",
       "    }\n",
       "\n",
       "    .dataframe tbody tr th {\n",
       "        vertical-align: top;\n",
       "    }\n",
       "\n",
       "    .dataframe thead th {\n",
       "        text-align: right;\n",
       "    }\n",
       "</style>\n",
       "<table border=\"1\" class=\"dataframe\">\n",
       "  <thead>\n",
       "    <tr style=\"text-align: right;\">\n",
       "      <th></th>\n",
       "      <th>col_name</th>\n",
       "      <th>feature_importance_vals</th>\n",
       "    </tr>\n",
       "  </thead>\n",
       "  <tbody>\n",
       "    <tr>\n",
       "      <th>1</th>\n",
       "      <td>RACE_White</td>\n",
       "      <td>0.741734</td>\n",
       "    </tr>\n",
       "    <tr>\n",
       "      <th>3</th>\n",
       "      <td>RACE_American Indian</td>\n",
       "      <td>0.119614</td>\n",
       "    </tr>\n",
       "    <tr>\n",
       "      <th>2</th>\n",
       "      <td>RACE_Other single race</td>\n",
       "      <td>0.102159</td>\n",
       "    </tr>\n",
       "    <tr>\n",
       "      <th>0</th>\n",
       "      <td>RACE_Black or African American</td>\n",
       "      <td>0.075214</td>\n",
       "    </tr>\n",
       "    <tr>\n",
       "      <th>5</th>\n",
       "      <td>RACE_Two or more races</td>\n",
       "      <td>0.069602</td>\n",
       "    </tr>\n",
       "    <tr>\n",
       "      <th>8</th>\n",
       "      <td>RACE_Asian</td>\n",
       "      <td>0.049578</td>\n",
       "    </tr>\n",
       "    <tr>\n",
       "      <th>6</th>\n",
       "      <td>RACE_Alaskan Native</td>\n",
       "      <td>0.040047</td>\n",
       "    </tr>\n",
       "    <tr>\n",
       "      <th>9</th>\n",
       "      <td>RACE_Not known</td>\n",
       "      <td>0.038218</td>\n",
       "    </tr>\n",
       "    <tr>\n",
       "      <th>7</th>\n",
       "      <td>RACE_Native Hawaiian or Other Pacific Islander</td>\n",
       "      <td>0.037945</td>\n",
       "    </tr>\n",
       "    <tr>\n",
       "      <th>4</th>\n",
       "      <td>RACE_Asian or Pacific Islander</td>\n",
       "      <td>0.031553</td>\n",
       "    </tr>\n",
       "  </tbody>\n",
       "</table>\n",
       "</div>"
      ],
      "text/plain": [
       "                                         col_name  feature_importance_vals\n",
       "1                                      RACE_White                 0.741734\n",
       "3                            RACE_American Indian                 0.119614\n",
       "2                          RACE_Other single race                 0.102159\n",
       "0                  RACE_Black or African American                 0.075214\n",
       "5                          RACE_Two or more races                 0.069602\n",
       "8                                      RACE_Asian                 0.049578\n",
       "6                             RACE_Alaskan Native                 0.040047\n",
       "9                                  RACE_Not known                 0.038218\n",
       "7  RACE_Native Hawaiian or Other Pacific Islander                 0.037945\n",
       "4                  RACE_Asian or Pacific Islander                 0.031553"
      ]
     },
     "execution_count": 53,
     "metadata": {},
     "output_type": "execute_result"
    }
   ],
   "source": [
    "#mean of values over the random sample of 500\n",
    "vals= np.abs(shap_values).mean(0)\n",
    "\n",
    "#creating dataframe of the sum of means, regarding the shap_values means for the RACE_ variables for comparison\n",
    "feature_importance = pd.DataFrame(list(zip(needed_features.columns, sum(vals))), columns=['col_name','feature_importance_vals'])\n",
    "feature_importance.sort_values(by=['feature_importance_vals'], ascending=False,inplace=True)\n",
    "feature_importance"
   ]
  },
  {
   "cell_type": "code",
   "execution_count": 62,
   "id": "8787cead",
   "metadata": {},
   "outputs": [],
   "source": [
    "from nltk import flatten\n",
    "#combining shap_values and feature names into a list of tuples\n",
    "shap_values_list = flatten(shap_values[1].tolist())\n",
    "feature_names_list = list(features_one_hot_sample.columns)\n",
    "combined_shap_list = list(zip(feature_names_list, shap_values_list))"
   ]
  },
  {
   "cell_type": "code",
   "execution_count": 63,
   "id": "93ded82f",
   "metadata": {},
   "outputs": [
    {
     "data": {
      "text/plain": [
       "[('AGE_12-14', -7.309568292218037e-05),\n",
       " ('AGE_15-17', -0.000704679772013125),\n",
       " ('AGE_18-20', -0.00013772815719177811),\n",
       " ('AGE_21-24', -0.0001197235808739599),\n",
       " ('AGE_25-29', 0.00021940451785521704),\n",
       " ('AGE_30-34', 9.386476180263631e-05),\n",
       " ('AGE_35-39', -1.0666674701650046e-05),\n",
       " ('AGE_40-44', -5.368569591136649e-05),\n",
       " ('AGE_45-49', 8.97951879510043e-05),\n",
       " ('AGE_50-54', 5.550153710683846e-05),\n",
       " ('AGE_55-64', -0.00011508573495975968),\n",
       " ('AGE_65+', -4.917683258691328e-05),\n",
       " ('GENDER_Female', 0.0007063836582323107),\n",
       " ('GENDER_Male', 0.0005251663680967229),\n",
       " ('GENDER_Not known', -9.851917406445254e-07),\n",
       " ('RACE_Alaskan Native', -1.1533719851031381e-05),\n",
       " ('RACE_American Indian', 8.807972704355243e-06),\n",
       " ('RACE_Asian', -2.5126591485683304e-05),\n",
       " ('RACE_Asian or Pacific Islander', -9.069618433885422e-08),\n",
       " ('RACE_Black or African American', 0.0005194745297988273),\n",
       " ('RACE_Native Hawaiian or Other Pacific Islander', -1.8322393469483115e-05),\n",
       " ('RACE_Not known', -0.0002550194487639197),\n",
       " ('RACE_Other single race', 0.00017951027541944956),\n",
       " ('RACE_Two or more races', -1.081906029525494e-05),\n",
       " ('RACE_White', 0.0002844437571497354),\n",
       " ('MARITAL_STATUS_Divorced, widowed', 4.737225222001399e-05),\n",
       " ('MARITAL_STATUS_Never married', 0.0010081699761131646),\n",
       " ('MARITAL_STATUS_Not known', -0.0030558167284960532),\n",
       " ('MARITAL_STATUS_Now Married', 0.001790762282482989),\n",
       " ('MARITAL_STATUS_Separated', 2.4491683084391476e-05),\n",
       " ('EDUCATION_1-3 years of college, university, or vocational school',\n",
       "  2.6947392290237755e-06),\n",
       " ('EDUCATION_4 years of college, university, BA/BS, some postgraduate study, or more',\n",
       "  -0.0003501830317273487),\n",
       " ('EDUCATION_Grade 12 (or GED)', -0.001072250386653411),\n",
       " ('EDUCATION_Grades 9 to 11', 0.00015855246922661027),\n",
       " ('EDUCATION_Less than one school grade, no schooling, nursery school, or kindergarten to Grade 8',\n",
       "  0.00011957818509698829),\n",
       " ('EDUCATION_Not known', -0.007268531897073847),\n",
       " ('EMPLOYMENT_AT_ADMISSION_Full time', -0.003946186196507548),\n",
       " ('EMPLOYMENT_AT_ADMISSION_Not in labor force', 0.004841135325148166),\n",
       " ('EMPLOYMENT_AT_ADMISSION_Not known', -0.00028820180387213387),\n",
       " ('EMPLOYMENT_AT_ADMISSION_Part time', -0.00012791980712897766),\n",
       " ('EMPLOYMENT_AT_ADMISSION_Unemployed', -0.002706566460807053),\n",
       " ('LIVING_ARRANGEMENT_AT_ADMISSION_Dependent living', -0.00037468104312815185),\n",
       " ('LIVING_ARRANGEMENT_AT_ADMISSION_Homeless', 0.0003964461772533605),\n",
       " ('LIVING_ARRANGEMENT_AT_ADMISSION_Independent living', -0.002169986858970708),\n",
       " ('LIVING_ARRANGEMENT_AT_ADMISSION_Not known', -0.004709694903370583),\n",
       " ('ARRESTS_IN_30_DAYS_PRIOR_TO_ADMISSION_None', 0.0018126682857526985),\n",
       " ('ARRESTS_IN_30_DAYS_PRIOR_TO_ADMISSION_Not known', 0.0052259431390123765),\n",
       " ('ARRESTS_IN_30_DAYS_PRIOR_TO_ADMISSION_Once', -0.00017178703713811503),\n",
       " ('ARRESTS_IN_30_DAYS_PRIOR_TO_ADMISSION_Two or more times',\n",
       "  -6.231551311483165e-05),\n",
       " ('SERVICES_AT_ADMISSION_Ambulatory, detoxification', -3.415451388361898e-05),\n",
       " ('SERVICES_AT_ADMISSION_Ambulatory, intensive outpatient',\n",
       "  0.0009306840470949167),\n",
       " ('SERVICES_AT_ADMISSION_Ambulatory, non-intensive outpatient',\n",
       "  0.0051015065018789815),\n",
       " ('SERVICES_AT_ADMISSION_Detox, 24-hour, free-standing residential',\n",
       "  0.008287945116000669),\n",
       " ('SERVICES_AT_ADMISSION_Detox, 24-hour, hospital inpatient',\n",
       "  0.00011305523222825343),\n",
       " ('SERVICES_AT_ADMISSION_Rehab/residential, hospital (non-detox)',\n",
       "  -2.265689117753982e-05),\n",
       " ('SERVICES_AT_ADMISSION_Rehab/residential, long term (more than 30 days)',\n",
       "  -0.001193009006153837),\n",
       " ('SERVICES_AT_ADMISSION_Rehab/residential, short term (30 days or fewer)',\n",
       "  -0.001120189794236074),\n",
       " ('PRIMARY_SOURCE_OF_REFERRAL_Alcohol/drug use care provider',\n",
       "  0.001983323645343904),\n",
       " ('PRIMARY_SOURCE_OF_REFERRAL_Court/criminal justice referral/DUI/DWI',\n",
       "  -0.0038065136269504886),\n",
       " ('PRIMARY_SOURCE_OF_REFERRAL_Employer/EAP', -0.00011401864020698805),\n",
       " ('PRIMARY_SOURCE_OF_REFERRAL_Individual (includes self-referral)',\n",
       "  -0.006894981315591786),\n",
       " ('PRIMARY_SOURCE_OF_REFERRAL_Not known', -0.0007175622864349639),\n",
       " ('PRIMARY_SOURCE_OF_REFERRAL_Other community referral',\n",
       "  -0.00018895089904421916),\n",
       " ('PRIMARY_SOURCE_OF_REFERRAL_Other health care provider',\n",
       "  -6.405667236902692e-05),\n",
       " ('PRIMARY_SOURCE_OF_REFERRAL_School (educational)', -3.8034941163281135e-05),\n",
       " ('PRIMARY_SUBSTANCE_ABUSE_Alcohol', -0.006764012290605145),\n",
       " ('PRIMARY_SUBSTANCE_ABUSE_Barbiturates', -3.308238988716387e-06),\n",
       " ('PRIMARY_SUBSTANCE_ABUSE_Benzodiazepines', -5.2108556671707125e-06),\n",
       " ('PRIMARY_SUBSTANCE_ABUSE_Cocaine/crack', 0.00028316818856176335),\n",
       " ('PRIMARY_SUBSTANCE_ABUSE_Hallucinogens', -2.0412292306571137e-06),\n",
       " ('PRIMARY_SUBSTANCE_ABUSE_Heroin', -0.07412259159788659),\n",
       " ('PRIMARY_SUBSTANCE_ABUSE_Inhalants', -8.974749615635074e-08),\n",
       " ('PRIMARY_SUBSTANCE_ABUSE_Marijuana/hashish', -0.003370775609050758),\n",
       " ('PRIMARY_SUBSTANCE_ABUSE_Methamphetamine/speed', -0.001453384371044969),\n",
       " ('PRIMARY_SUBSTANCE_ABUSE_Non-prescription methadone',\n",
       "  -6.473595598528228e-05),\n",
       " ('PRIMARY_SUBSTANCE_ABUSE_None', -0.000453624860486874),\n",
       " ('PRIMARY_SUBSTANCE_ABUSE_Not known', -0.002326405153571313),\n",
       " ('PRIMARY_SUBSTANCE_ABUSE_Other amphetamines', -5.287713012875852e-07),\n",
       " ('PRIMARY_SUBSTANCE_ABUSE_Other drugs', -8.336591232236195e-06),\n",
       " ('PRIMARY_SUBSTANCE_ABUSE_Other opiates and synthetics',\n",
       "  -0.0014123945680856373),\n",
       " ('PRIMARY_SUBSTANCE_ABUSE_Other sedatives or hypnotics',\n",
       "  -1.924411003111888e-06),\n",
       " ('PRIMARY_SUBSTANCE_ABUSE_Other stimulants', 4.631146373938866e-08),\n",
       " ('PRIMARY_SUBSTANCE_ABUSE_Other tranquilizers', 3.711461221751755e-08),\n",
       " ('PRIMARY_SUBSTANCE_ABUSE_Over-the-counter medications',\n",
       "  -6.189318215417885e-07),\n",
       " ('PRIMARY_SUBSTANCE_ABUSE_PCP', 1.4443192289242156e-06),\n",
       " ('FREQUENCY_OF_USE_Daily use', -0.007012063444753345),\n",
       " ('FREQUENCY_OF_USE_No use in the past month', -0.000254549962421928),\n",
       " ('FREQUENCY_OF_USE_Not known', -0.001929664901985809),\n",
       " ('FREQUENCY_OF_USE_Some use', 9.702360404412583e-05),\n",
       " ('AGE_AT_FIRST_USE_11 years and under', 7.803254747200288e-06),\n",
       " ('AGE_AT_FIRST_USE_12-14 years', 0.00018105205542400606),\n",
       " ('AGE_AT_FIRST_USE_15-17 years', 4.158288042145178e-05),\n",
       " ('AGE_AT_FIRST_USE_18-20 years', -0.0001908723737820895),\n",
       " ('AGE_AT_FIRST_USE_21-24 years', -0.0004487761390587778),\n",
       " ('AGE_AT_FIRST_USE_25-29 years', -2.8534714929767793e-05),\n",
       " ('AGE_AT_FIRST_USE_30 years and older', -9.267763452560444e-05),\n",
       " ('AGE_AT_FIRST_USE_Not known', -0.0016317592113022762),\n",
       " ('ALCOHOL_OR_DRUG_ABUSE_Alcohol and other drugs', 0.002157628228743301),\n",
       " ('ALCOHOL_OR_DRUG_ABUSE_Alcohol only', -0.008455805485558451),\n",
       " ('ALCOHOL_OR_DRUG_ABUSE_None', -0.004189450700307128),\n",
       " ('ALCOHOL_OR_DRUG_ABUSE_Other drugs only', -0.00394424034747438),\n",
       " ('DSM_DIAGNOSIS_Alcohol abuse', -0.0011334989231981864),\n",
       " ('DSM_DIAGNOSIS_Alcohol dependence', 0.00015368155664405672),\n",
       " ('DSM_DIAGNOSIS_Alcohol intoxication', -0.000533448473064846),\n",
       " ('DSM_DIAGNOSIS_Alcohol-induced disorder', -5.316299050879183e-06),\n",
       " ('DSM_DIAGNOSIS_Anxiety disorders', -1.1946056810027328e-07),\n",
       " ('DSM_DIAGNOSIS_Attention deficit/disruptive behavior disorders',\n",
       "  1.212369738344158e-07),\n",
       " ('DSM_DIAGNOSIS_Bipolar disorders', 9.120635090142524e-07),\n",
       " ('DSM_DIAGNOSIS_Cannabis abuse', -0.0006300519860607016),\n",
       " ('DSM_DIAGNOSIS_Cannabis dependence', -7.020422629259567e-05),\n",
       " ('DSM_DIAGNOSIS_Cocaine abuse', -1.8797865951551779e-06),\n",
       " ('DSM_DIAGNOSIS_Cocaine dependence', 5.536431651902959e-05),\n",
       " ('DSM_DIAGNOSIS_Depressive disorders', 7.981700760426553e-07),\n",
       " ('DSM_DIAGNOSIS_Not known', -0.0009546673518702481),\n",
       " ('DSM_DIAGNOSIS_Opioid abuse', -0.0001406531927584745),\n",
       " ('DSM_DIAGNOSIS_Opioid dependence', -0.018185239649503655),\n",
       " ('DSM_DIAGNOSIS_Other mental health condition', 0.0021680080591479976),\n",
       " ('DSM_DIAGNOSIS_Other substance abuse', -1.1569640687035753e-05),\n",
       " ('DSM_DIAGNOSIS_Other substance dependence', -0.00024355123447867237),\n",
       " ('DSM_DIAGNOSIS_Schizophrenia/other psychotic disorders',\n",
       "  6.374538368567472e-08),\n",
       " ('DSM_DIAGNOSIS_Substance-induced disorder', -0.0004070001629825599),\n",
       " ('PSYCHIATRIC_PROBLEM_No', 0.02319042877375119),\n",
       " ('PSYCHIATRIC_PROBLEM_Not known', 0.005041749574730653),\n",
       " ('PSYCHIATRIC_PROBLEM_Yes', 0.009447255928581285),\n",
       " ('HEALTH_INSURANCE_Medicaid', 0.0033854016416529215),\n",
       " ('HEALTH_INSURANCE_Medicare, other (e.g. TRICARE, CHAMPUS)',\n",
       "  -0.00012775594881647402),\n",
       " ('HEALTH_INSURANCE_None', -0.00034715132669864494),\n",
       " ('HEALTH_INSURANCE_Not known', -0.0017752093478523856),\n",
       " ('HEALTH_INSURANCE_Private insurance, Blue Cross/Blue Shield, HMO',\n",
       "  -0.00079033627025067),\n",
       " ('PRIMARY_PAYMENT_METHOD_Medicaid', 0.00040798567759869854),\n",
       " ('PRIMARY_PAYMENT_METHOD_Medicare', -7.85959249722689e-05),\n",
       " ('PRIMARY_PAYMENT_METHOD_No charge (free, charity, special research, teaching)',\n",
       "  1.7645653148657847e-05),\n",
       " ('PRIMARY_PAYMENT_METHOD_Not known', -0.004872265837706632),\n",
       " ('PRIMARY_PAYMENT_METHOD_Other', -9.400048196716491e-06),\n",
       " ('PRIMARY_PAYMENT_METHOD_Other government payments', -0.000743233610572598),\n",
       " ('PRIMARY_PAYMENT_METHOD_Private insurance (Blue Cross/Blue Shield, other health insurance, workers compensation)',\n",
       "  -0.0003191691193989625),\n",
       " ('PRIMARY_PAYMENT_METHOD_Self-pay', -0.0001212992919578285),\n",
       " ('FREQUENCY_OF_SELF_HELP_ATTENDANCE_1-3 times in the past month',\n",
       "  -3.262350424305713e-05),\n",
       " ('FREQUENCY_OF_SELF_HELP_ATTENDANCE_4-7 times in the past month',\n",
       "  6.44149532892236e-06),\n",
       " ('FREQUENCY_OF_SELF_HELP_ATTENDANCE_8-30 times in the past month',\n",
       "  -0.0001839624935803978),\n",
       " ('FREQUENCY_OF_SELF_HELP_ATTENDANCE_No attendance', 0.007251409621578077),\n",
       " ('FREQUENCY_OF_SELF_HELP_ATTENDANCE_Not known', 0.00358270276956899),\n",
       " ('FREQUENCY_OF_SELF_HELP_ATTENDANCE_Some attendance, frequency is unknown',\n",
       "  0.001626738726386608),\n",
       " ('STATE_Alabama', 0.00018413205780475511),\n",
       " ('STATE_Alaska', -5.67590351371286e-06),\n",
       " ('STATE_Arizona', -4.2450712439934504e-06),\n",
       " ('STATE_Arkansas', -0.004704664018422497),\n",
       " ('STATE_California', -0.0006174413700074729),\n",
       " ('STATE_Colorado', -0.007269488102028375),\n",
       " ('STATE_Connecticut', -6.139522072099716e-05),\n",
       " ('STATE_Delaware', 0.0006661666187976257),\n",
       " ('STATE_District of Columbia', 0.0004278936973538724),\n",
       " ('STATE_Florida', -3.009302201814858e-06),\n",
       " ('STATE_Georgia', -0.005064942600276205),\n",
       " ('STATE_Hawaii', 0.0006509550886110377),\n",
       " ('STATE_Idaho', -2.6265947571378906e-05),\n",
       " ('STATE_Illinois', -1.5266156826857838e-06),\n",
       " ('STATE_Indiana', 1.4547701596203328e-05),\n",
       " ('STATE_Iowa', 0.0004548912591395922),\n",
       " ('STATE_Kansas', -1.732760799702628e-05),\n",
       " ('STATE_Kentucky', -5.42589228650378e-07),\n",
       " ('STATE_Louisiana', -0.00014594695568540678),\n",
       " ('STATE_Maine', 0.0002697265169039972),\n",
       " ('STATE_Maryland', -4.821107189705626e-06),\n",
       " ('STATE_Massachusetts', 0.00022020406013578537),\n",
       " ('STATE_Michigan', 0.004600370917219636),\n",
       " ('STATE_Minnesota', 0.0012378283941136415),\n",
       " ('STATE_Mississippi', 0.00023093738061224825),\n",
       " ('STATE_Missouri', -4.085223242923528e-05),\n",
       " ('STATE_Montana', 0.00014419376409920546),\n",
       " ('STATE_Nebraska', -9.206310564373099e-08),\n",
       " ('STATE_Nevada', 2.3697360725601018e-05),\n",
       " ('STATE_New Hampshire', -0.0005936130062869723),\n",
       " ('STATE_New Jersey', -4.7216111318893045e-05),\n",
       " ('STATE_New Mexico', 0.00023328996241774188),\n",
       " ('STATE_New York', -2.602507725243077e-06),\n",
       " ('STATE_North Carolina', -0.07055896564928144),\n",
       " ('STATE_North Dakota', -0.008014399528573605),\n",
       " ('STATE_Ohio', 1.4343012694662845e-06),\n",
       " ('STATE_Oklahoma', 0.00047900382541802444),\n",
       " ('STATE_Pennsylvania', -0.0006712531751050098),\n",
       " ('STATE_Puerto Rico', -0.0004793489496558898),\n",
       " ('STATE_Rhode Island', -2.2717401707523906e-06),\n",
       " ('STATE_South Carolina', -3.31199091803523e-05),\n",
       " ('STATE_South Dakota', 0.0018788748771417835),\n",
       " ('STATE_Tennessee', 2.628446448940357e-06),\n",
       " ('STATE_Texas', -0.0005074027889310677),\n",
       " ('STATE_Utah', -0.00023733089352794755),\n",
       " ('STATE_Vermont', -7.499813183520779e-05),\n",
       " ('STATE_Virginia', -7.689525974730432e-07),\n",
       " ('STATE_Washington', -7.531847272346047e-05),\n",
       " ('STATE_Wisconsin', 9.141767035142005e-05),\n",
       " ('STATE_Wyoming', -7.861944313723128e-07)]"
      ]
     },
     "execution_count": 63,
     "metadata": {},
     "output_type": "execute_result"
    }
   ],
   "source": [
    "combined_shap_list"
   ]
  },
  {
   "cell_type": "code",
   "execution_count": 64,
   "id": "0d17b059",
   "metadata": {},
   "outputs": [
    {
     "data": {
      "text/plain": [
       "[('RACE_Not known', -0.0002550194),\n",
       " ('RACE_Asian', -2.51266e-05),\n",
       " ('RACE_Native Hawaiian or Other Pacific Islander', -1.83224e-05),\n",
       " ('RACE_Alaskan Native', -1.15337e-05),\n",
       " ('RACE_Two or more races', -1.08191e-05),\n",
       " ('RACE_Asian or Pacific Islander', -9.07e-08),\n",
       " ('RACE_American Indian', 8.808e-06),\n",
       " ('RACE_Other single race', 0.0001795103),\n",
       " ('RACE_White', 0.0002844438),\n",
       " ('RACE_Black or African American', 0.0005194745)]"
      ]
     },
     "execution_count": 64,
     "metadata": {},
     "output_type": "execute_result"
    }
   ],
   "source": [
    "#sorting, rounding, and filtering the list of tuples via the RACE variables\n",
    "combined_shap_list_rounded = [(item[0],round(item[1],10)) for item in combined_shap_list]\n",
    "combined_shap_list_sorted = sorted(combined_shap_list_rounded, key=lambda x: x[1])\n",
    "combined_shap_list_filtered_race = [t for t in combined_shap_list_sorted if t[0].startswith('RACE_')]\n",
    "combined_shap_list_filtered_race"
   ]
  },
  {
   "cell_type": "markdown",
   "id": "50cd754c",
   "metadata": {},
   "source": [
    "# source : https://deepchecks.com/reducing-bias-and-ensuring-fairness-in-machine-learning/#\n",
    "\n",
    "# source : https://www.datacamp.com/tutorial/introduction-to-shap-values-machine-learning-interpretability"
   ]
  },
  {
   "cell_type": "code",
   "execution_count": null,
   "id": "05b2b178",
   "metadata": {},
   "outputs": [],
   "source": []
  },
  {
   "cell_type": "code",
   "execution_count": null,
   "id": "ec3174c7",
   "metadata": {},
   "outputs": [],
   "source": []
  }
 ],
 "metadata": {
  "kernelspec": {
   "display_name": "Python 3 (ipykernel)",
   "language": "python",
   "name": "python3"
  },
  "language_info": {
   "codemirror_mode": {
    "name": "ipython",
    "version": 3
   },
   "file_extension": ".py",
   "mimetype": "text/x-python",
   "name": "python",
   "nbconvert_exporter": "python",
   "pygments_lexer": "ipython3",
   "version": "3.9.12"
  }
 },
 "nbformat": 4,
 "nbformat_minor": 5
}
