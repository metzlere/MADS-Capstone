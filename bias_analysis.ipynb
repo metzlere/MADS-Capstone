{
 "cells": [
  {
   "cell_type": "code",
   "execution_count": 1,
   "id": "b78aa041",
   "metadata": {},
   "outputs": [],
   "source": [
    "import numpy as np\n",
    "import pandas as pd\n",
    "from sklearn.model_selection import train_test_split\n",
    "import xgboost\n",
    "from sklearn.ensemble import RandomForestClassifier\n",
    "import joblib\n",
    "from joblib import load\n",
    "import lime\n",
    "import lime.lime_tabular\n",
    "import shap"
   ]
  },
  {
   "cell_type": "code",
   "execution_count": 2,
   "id": "10d62bda",
   "metadata": {},
   "outputs": [],
   "source": [
    "#I had to downgrade sklearn for joblib to load the dataset correctly\n",
    "\n",
    "#pip uninstall sklearn --yes\n",
    "#pip install -v scikit-learn==1.2.2"
   ]
  },
  {
   "cell_type": "code",
   "execution_count": 3,
   "id": "6e5785eb",
   "metadata": {},
   "outputs": [],
   "source": [
    "#loading in trained model\n",
    "model = joblib.load('best_random_forest9.pkl')"
   ]
  },
  {
   "cell_type": "code",
   "execution_count": 4,
   "id": "cd14cb5c",
   "metadata": {},
   "outputs": [
    {
     "data": {
      "text/plain": [
       "sklearn.ensemble._forest.RandomForestClassifier"
      ]
     },
     "execution_count": 4,
     "metadata": {},
     "output_type": "execute_result"
    }
   ],
   "source": [
    "#making sure the model loaded correctly\n",
    "type(model)"
   ]
  },
  {
   "cell_type": "code",
   "execution_count": 5,
   "id": "0457e07f",
   "metadata": {},
   "outputs": [],
   "source": [
    "#load in the dataset\n",
    "df = pd.read_csv(\"cleaned_data.csv\")\n",
    "\n",
    "# take random sample of dataframe to reduce size\n",
    "df = df.sample(n=200000, random_state=42)\n",
    "\n",
    "# Drop discharge variable which was not dropped during preprocessing\n",
    "\n",
    "df = df.drop(\"YEAR_OF_DISCHARGE\", axis=1)\n",
    "\n",
    "#df.head()"
   ]
  },
  {
   "cell_type": "code",
   "execution_count": 6,
   "id": "04ecb268",
   "metadata": {},
   "outputs": [],
   "source": [
    "#removing/filtering 'transferred to another treatment' option from data\n",
    "df = df[df['REASON_FOR_DISCHARGE'] != 'Transferred to another treatment program or facility']"
   ]
  },
  {
   "cell_type": "code",
   "execution_count": 7,
   "id": "b47d3fb4",
   "metadata": {},
   "outputs": [],
   "source": [
    "# Create target variable. If the patient completed treatment and had no prior treatment episodes,\n",
    "#they are considered a success. Otherwise, they are considered a failure.\n",
    "\n",
    "df['SUCCESSFUL_TREATMENT'] = df.apply(lambda row: 1 if row['REASON_FOR_DISCHARGE'] == 'Treatment completed' and row['PRIOR_TREATMENT_EPISODES'] == \"No prior treatment episode\" else 0, axis=1)"
   ]
  },
  {
   "cell_type": "code",
   "execution_count": 8,
   "id": "616e6c92",
   "metadata": {},
   "outputs": [
    {
     "name": "stdout",
     "output_type": "stream",
     "text": [
      "(106172, 213) (26544, 213) (106172,) (26544,)\n"
     ]
    }
   ],
   "source": [
    "#creating train/test splits\n",
    "target = df['SUCCESSFUL_TREATMENT']\n",
    "features = df.drop(['REASON_FOR_DISCHARGE', 'PRIOR_TREATMENT_EPISODES', 'SUCCESSFUL_TREATMENT'], axis=1)\n",
    "features_one_hot = pd.get_dummies(features)\n",
    "\n",
    "X_train, X_test, y_train, y_test = train_test_split(features_one_hot, target, test_size=0.2, random_state=42)\n",
    "print(X_train.shape, X_test.shape, y_train.shape, y_test.shape)"
   ]
  },
  {
   "cell_type": "markdown",
   "id": "8964a7e7",
   "metadata": {},
   "source": [
    "# LIME for Bias Analysis"
   ]
  },
  {
   "cell_type": "code",
   "execution_count": 9,
   "id": "c1410e42",
   "metadata": {},
   "outputs": [],
   "source": [
    "#fitting model for LIME\n",
    "clf = model.fit(X_train, y_train)"
   ]
  },
  {
   "cell_type": "code",
   "execution_count": 10,
   "id": "5909f9c8",
   "metadata": {},
   "outputs": [
    {
     "name": "stderr",
     "output_type": "stream",
     "text": [
      "X does not have valid feature names, but RandomForestClassifier was fitted with feature names\n"
     ]
    },
    {
     "name": "stdout",
     "output_type": "stream",
     "text": [
      "[('PRIMARY_SUBSTANCE_ABUSE_Heroin', -0.01019573014535909), ('DSM_DIAGNOSIS_Opioid dependence', -0.008511370348024357), ('PRIMARY_PAYMENT_METHOD_Medicaid', -0.00842278886457436), ('FREQUENCY_OF_SELF_HELP_ATTENDANCE_No attendance', 0.008344736587126901), ('PSYCHIATRIC_PROBLEM_Yes', -0.0074415783259588475), ('ALCOHOL_OR_DRUG_ABUSE_Alcohol only', 0.007293555453512636), ('PSYCHIATRIC_PROBLEM_No', 0.006572043204190805), ('EMPLOYMENT_AT_DISCHARGE_Full time', 0.005603882902243389), ('HEALTH_INSURANCE_Medicaid', -0.004745710221429763), ('HEALTH_INSURANCE_Private insurance, Blue Cross/Blue Shield, HMO', 0.004333749623918976), ('SERVICES_AT_DISCHARGE_Ambulatory, intensive outpatient', -0.0037801944369011023), ('STATE_Kentucky', 0.0037077928422981667), ('LIVING_ARRANGEMENT_AT_DISCHARGE_Homeless', -0.0037058461696681992), ('PRIMARY_SUBSTANCE_ABUSE_Marijuana/hashish', 0.003270420491915302), ('LIVING_ARRANGEMENT_AT_DISCHARGE_Independent living', 0.0027247048578713197), ('ALCOHOL_OR_DRUG_ABUSE_Alcohol and other drugs', -0.0025353657500170167), ('SERVICES_AT_ADMISSION_Ambulatory, intensive outpatient', -0.0025240734403058854), ('EMPLOYMENT_AT_DISCHARGE_Not in labor force', -0.0025016405625821843), ('SERVICES_AT_DISCHARGE_Detox, 24-hour, free-standing residential', 0.0025009622928895445), ('PRIMARY_SOURCE_OF_REFERRAL_Court/criminal justice referral/DUI/DWI', 0.002326267056832345), ('PRIMARY_SUBSTANCE_ABUSE_Alcohol', 0.0023228238259462644), ('LIVING_ARRANGEMENT_AT_ADMISSION_Independent living', 0.002197729783076467), ('EMPLOYMENT_AT_ADMISSION_Full time', 0.002078284984930437), ('SERVICES_AT_ADMISSION_Detox, 24-hour, free-standing residential', 0.0020023270264010744), ('PRIMARY_SOURCE_OF_REFERRAL_Individual (includes self-referral)', -0.0016621422113167132), ('LIVING_ARRANGEMENT_AT_ADMISSION_Homeless', -0.0015551348687275015), ('SERVICES_AT_ADMISSION_Rehab/residential, short term (30 days or fewer)', 0.0013545571867520385), ('STATE_Arkansas', 0.0013494552270469189), ('DSM_DIAGNOSIS_Alcohol abuse', 0.0013466492421922013), ('FREQUENCY_OF_SELF_HELP_ATTENDANCE_8-30 times in the past month', -0.0012950006402633952), ('EDUCATION_1-3 years of college, university, or vocational school', 0.0011978550427975605), ('MARITAL_STATUS_Now Married', 0.001162616356673459), ('LENGTH_OF_STAY_91-120 days', 0.0010459308151720172), ('AGE_AT_FIRST_USE_25-29 years', 0.0008951021166031039), ('STATE_Rhode Island', 0.000884209294833115), ('PRIMARY_SOURCE_OF_REFERRAL_Other community referral', 0.000880069907137979), ('EMPLOYMENT_AT_DISCHARGE_Unemployed', -0.0008551621455873896), ('DSM_DIAGNOSIS_Anxiety disorders', -0.0008422304166929613), ('DSM_DIAGNOSIS_Cannabis dependence', 0.0008342169190011594), ('SERVICES_AT_ADMISSION_Rehab/residential, hospital (non-detox)', 0.0008112805272611306), ('AGE_AT_FIRST_USE_18-20 years', 0.0007815897124095995), ('STATE_Puerto Rico', -0.0007803194440862258), ('PRIMARY_SUBSTANCE_ABUSE_Other drugs', 0.000772850221464686), ('ARRESTS_IN_30_DAYS_PRIOR_TO_ADMISSION_None', 0.0007599669098858796), ('LENGTH_OF_STAY_181-365 days', 0.000733085403047707), ('AGE_55-64', 0.0007287195580566089), ('PRIMARY_SUBSTANCE_ABUSE_PCP', 0.0007282226493552037), ('STATE_Colorado', -0.0007237782089806116), ('SERVICES_AT_DISCHARGE_Rehab/residential, short term (30 days or fewer)', 0.0007216761738745086), ('DSM_DIAGNOSIS_Alcohol intoxication', 0.000716303886854503), ('AGE_AT_FIRST_USE_12-14 years', -0.0007072091763245825), ('PRIMARY_PAYMENT_METHOD_Self-pay', 0.0007021623759391588), ('PRIMARY_SUBSTANCE_ABUSE_Benzodiazepines', 0.0006549905382215063), ('STATE_New Jersey', -0.0006527777510213556), ('SERVICES_AT_DISCHARGE_Rehab/residential, long term (more than 30 days)', -0.0006476803875151956), ('AGE_30-34', 0.0006270657334268523), ('AGE_AT_FIRST_USE_30 years and older', 0.0006231479592351779), ('PRIMARY_SUBSTANCE_ABUSE_Methamphetamine/speed', 0.000622409199160066), ('LENGTH_OF_STAY_8', -0.0006221950678710897), ('ARRESTS_IN_30_DAYS_PRIOR_TO_DISCHARGE_Once', -0.0006030262226771993), ('STATE_Iowa', -0.0006006908899000758), ('LENGTH_OF_STAY_24', 0.0005835735649756202), ('AGE_25-29', 0.0005815582562407729), ('DSM_DIAGNOSIS_Alcohol dependence', -0.000561649702444704), ('SERVICES_AT_ADMISSION_Ambulatory, detoxification', 0.0005447005195907764), ('STATE_Missouri', 0.000543075156332394), ('LENGTH_OF_STAY_19', 0.0005355421790236461), ('LENGTH_OF_STAY_13', -0.000530110478420238), ('EMPLOYMENT_AT_DISCHARGE_Part time', 0.0005241555330298754), ('STATE_New Hampshire', 0.0005228413020779668), ('EDUCATION_Less than one school grade, no schooling, nursery school, or kindergarten to Grade 8', 0.0005216506678205899), ('PRIMARY_PAYMENT_METHOD_No charge (free, charity, special research, teaching)', -0.0005205417594960871), ('STATE_District of Columbia', 0.0005186128005152787), ('STATE_South Dakota', 0.000513059178753641), ('AGE_35-39', 0.0005017119322052774), ('MARITAL_STATUS_Separated', 0.00048414412449447706), ('AGE_65+', 0.0004715526800800923), ('LENGTH_OF_STAY_4', 0.0004684329896294545), ('FREQUENCY_OF_USE_No use in the past month', 0.00046638475885619373), ('LENGTH_OF_STAY_16', -0.0004643733925357388), ('STATE_Pennsylvania', -0.0004624266073295523), ('PRIMARY_PAYMENT_METHOD_Other government payments', 0.00045806990771526924), ('DSM_DIAGNOSIS_Opioid abuse', -0.0004574952059042352), ('LENGTH_OF_STAY_20', -0.0004528832325101474), ('HEALTH_INSURANCE_Medicare, other (e.g. TRICARE, CHAMPUS)', 0.00044457274789110984), ('STATE_Wyoming', -0.00043980418302630095), ('LENGTH_OF_STAY_11', 0.00043664544038811697), ('STATE_Nebraska', -0.00041454942533783977), ('LENGTH_OF_STAY_22', 0.0004118809023226579), ('DSM_DIAGNOSIS_Cannabis abuse', -0.000409020755709054), ('STATE_South Carolina', 0.00040208898367897664), ('PRIMARY_PAYMENT_METHOD_Private insurance (Blue Cross/Blue Shield, other health insurance, workers compensation)', 0.0003957863690811994), ('LENGTH_OF_STAY_15', -0.0003954292947573857), ('PRIMARY_SUBSTANCE_ABUSE_Over-the-counter medications', -0.00039460567166547944), ('LENGTH_OF_STAY_21', -0.000388140483318672), ('LENGTH_OF_STAY_31-45 days', 0.00038687496050235804), ('FREQUENCY_OF_USE_Some use', 0.0003840556034991962), ('STATE_Kansas', 0.0003751976922036376), ('LENGTH_OF_STAY_1', 0.0003713422788074847), ('LENGTH_OF_STAY_3', -0.0003641369273846082), ('LENGTH_OF_STAY_27', 0.0003613067068744421), ('AGE_40-44', 0.0003609790603793193), ('ARRESTS_IN_30_DAYS_PRIOR_TO_ADMISSION_Once', -0.0003384303744931527), ('LENGTH_OF_STAY_2', -0.0003353985616908437), ('PRIMARY_SOURCE_OF_REFERRAL_Employer/EAP', 0.0003272580582307223), ('DSM_DIAGNOSIS_Depressive disorders', 0.00032058965121899515), ('LENGTH_OF_STAY_46-60 days', -0.0003204612201613457), ('STATE_Utah', -0.00031964632812440496), ('LENGTH_OF_STAY_7', 0.0003186070800078703), ('PRIMARY_SUBSTANCE_ABUSE_Other amphetamines', 0.0003180072731471021), ('SERVICES_AT_DISCHARGE_Ambulatory, non-intensive outpatient', -0.0003119211790498962), ('STATE_Montana', -0.00031125684925559243), ('AGE_50-54', 0.0003082366000511131), ('STATE_Idaho', -0.0003081198645724709), ('PRIMARY_SUBSTANCE_ABUSE_Barbiturates', 0.00030473414084874746), ('SERVICES_AT_DISCHARGE_Detox, 24-hour, hospital inpatient', 0.00029975205492735273), ('DSM_DIAGNOSIS_Other mental health condition', -0.00029564244280535996), ('PRIMARY_SUBSTANCE_ABUSE_Other sedatives or hypnotics', -0.0002951379415632688), ('STATE_Illinois', -0.0002923648021815211), ('DSM_DIAGNOSIS_Alcohol-induced disorder', -0.0002912142315902941), ('PRIMARY_SUBSTANCE_ABUSE_Hallucinogens', -0.0002889981137858096), ('FREQUENCY_OF_SELF_HELP_ATTENDANCE_4-7 times in the past month', 0.0002889601998726308), ('EMPLOYMENT_AT_ADMISSION_Not in labor force', -0.00028891571106346326), ('SERVICES_AT_DISCHARGE_Rehab/residential, hospital (non-detox)', -0.0002827485782090045), ('LENGTH_OF_STAY_10', -0.0002771353395780684), ('EMPLOYMENT_AT_ADMISSION_Unemployed', -0.0002771092733321943), ('DSM_DIAGNOSIS_Schizophrenia/other psychotic disorders', -0.00027619204366781337), ('DSM_DIAGNOSIS_Other substance dependence', 0.00027593990078841706), ('PRIMARY_SUBSTANCE_ABUSE_Inhalants', -0.00027561884647617685), ('RACE_White', 0.0002616577618299453), ('LENGTH_OF_STAY_6', 0.00025911842555549695), ('STATE_Louisiana', 0.0002541195480100344), ('AGE_45-49', -0.00025154336789581376), ('ARRESTS_IN_30_DAYS_PRIOR_TO_ADMISSION_Two or more times', -0.00024584599299049003), ('STATE_Arizona', 0.0002445887709672836), ('STATE_Ohio', 0.00024382396750917187), ('AGE_21-24', -0.00024133780210266727), ('PRIMARY_SOURCE_OF_REFERRAL_Other health care provider', -0.0002396953104225692), ('GENDER_Male', 0.00023900475855588972), ('RACE_Other single race', -0.00023641252030756998), ('STATE_New Mexico', -0.00023335849397904178), ('STATE_North Dakota', -0.00022849552409857912), ('FREQUENCY_OF_USE_Daily use', -0.00022349641832635132), ('RACE_Alaskan Native', -0.00022284775923109718), ('STATE_Mississippi', 0.00022073922051377956), ('PRIMARY_SOURCE_OF_REFERRAL_Alcohol/drug use care provider', -0.00022001048104414687), ('STATE_Maryland', -0.00021939235755718016), ('LIVING_ARRANGEMENT_AT_ADMISSION_Dependent living', -0.00021318682512106216), ('DSM_DIAGNOSIS_Other substance abuse', 0.0002106621667356307), ('AGE_AT_FIRST_USE_21-24 years', 0.00020688235238651277), ('AGE_12-14', -0.00019637666310098596), ('LENGTH_OF_STAY_29', 0.00019547203409513836), ('PRIMARY_PAYMENT_METHOD_Medicare', -0.0001926499699157698), ('LENGTH_OF_STAY_121-180 days', 0.0001845964769445054), ('PRIMARY_SOURCE_OF_REFERRAL_School (educational)', 0.0001801277851931275), ('EDUCATION_4 years of college, university, BA/BS, some postgraduate study, or more', 0.00017667220562288347), ('LENGTH_OF_STAY_61-90 days', -0.0001748694427178644), ('LENGTH_OF_STAY_17', 0.00016609190037310636), ('RACE_Black or African American', -0.0001637954167335385), ('LENGTH_OF_STAY_greater than 365 days', -0.00016348567271326668), ('EDUCATION_Grade 12 (or GED)', -0.00016307137447976706), ('PRIMARY_SUBSTANCE_ABUSE_Other stimulants', 0.00014659745862139338), ('LENGTH_OF_STAY_5', 0.00014458004247729496), ('DSM_DIAGNOSIS_Cocaine dependence', 0.00014437551443391056), ('STATE_Maine', -0.0001413802892879097), ('PRIMARY_PAYMENT_METHOD_Other', 0.0001410743506648793), ('PRIMARY_SUBSTANCE_ABUSE_Cocaine/crack', -0.00013416731798740974), ('AGE_AT_FIRST_USE_11 years and under', -0.00012577435144962523), ('LIVING_ARRANGEMENT_AT_DISCHARGE_Dependent living', -0.00012239024168274277), ('RACE_American Indian', -0.00011458246745756449), ('LENGTH_OF_STAY_12', -0.00011127080873745692), ('SERVICES_AT_ADMISSION_Detox, 24-hour, hospital inpatient', -0.0001107330129512414), ('HEALTH_INSURANCE_None', 0.00010991365611151367), ('RACE_Native Hawaiian or Other Pacific Islander', 0.0001068426528626952), ('SERVICES_AT_ADMISSION_Ambulatory, non-intensive outpatient', 0.00010640780797675653), ('STATE_Alaska', -0.00010031704523463033), ('LENGTH_OF_STAY_26', -9.919726544393402e-05), ('LENGTH_OF_STAY_9', -9.915995349098036e-05), ('ARRESTS_IN_30_DAYS_PRIOR_TO_DISCHARGE_None', 9.745775193322265e-05), ('DSM_DIAGNOSIS_Substance-induced disorder', 9.140642863211805e-05), ('LENGTH_OF_STAY_25', -9.018836595585915e-05), ('ARRESTS_IN_30_DAYS_PRIOR_TO_DISCHARGE_Two or more times', -8.795885154165589e-05), ('MARITAL_STATUS_Never married', 8.715301966150356e-05), ('DSM_DIAGNOSIS_Cocaine abuse', -8.198890445372326e-05), ('PRIMARY_SUBSTANCE_ABUSE_Other tranquilizers', 8.193056132695403e-05), ('RACE_Two or more races', 7.707703961531279e-05), ('MARITAL_STATUS_Divorced, widowed', -7.219544021620555e-05), ('LENGTH_OF_STAY_14', -7.020873312939602e-05), ('GENDER_Female', 6.754617492923527e-05), ('ALCOHOL_OR_DRUG_ABUSE_Other drugs only', -6.364696644091775e-05), ('STATE_Nevada', 6.334639399686928e-05), ('STATE_Hawaii', 6.250701548919355e-05), ('LENGTH_OF_STAY_18', 6.244407312993832e-05), ('DSM_DIAGNOSIS_Attention deficit/disruptive behavior disorders', -6.206021219979464e-05), ('SERVICES_AT_DISCHARGE_Ambulatory, detoxification', -5.848711136776813e-05), ('STATE_Delaware', -5.434261734603465e-05), ('DSM_DIAGNOSIS_Bipolar disorders', 4.9423993775665665e-05), ('LENGTH_OF_STAY_28', -4.402768729509975e-05), ('LENGTH_OF_STAY_23', -3.9998515979883906e-05), ('AGE_18-20', -3.7303644846890476e-05), ('EDUCATION_Grades 9 to 11', 3.3053561690830475e-05), ('PRIMARY_SUBSTANCE_ABUSE_Other opiates and synthetics', 3.218076330617309e-05), ('RACE_Asian', 3.1465095931759563e-05), ('FREQUENCY_OF_SELF_HELP_ATTENDANCE_Some attendance, frequency is unknown', 3.1234809889148976e-05), ('LENGTH_OF_STAY_30', -2.8732039766598115e-05), ('PRIMARY_SUBSTANCE_ABUSE_Non-prescription methadone', -2.810541492020825e-05), ('AGE_AT_FIRST_USE_15-17 years', 2.7956610232082745e-05), ('FREQUENCY_OF_SELF_HELP_ATTENDANCE_1-3 times in the past month', -2.6719378482773174e-05), ('SERVICES_AT_ADMISSION_Rehab/residential, long term (more than 30 days)', 2.2714744488571523e-05), ('STATE_Alabama', 2.0552897108315642e-05), ('STATE_Florida', -1.2045414692191148e-05), ('EMPLOYMENT_AT_ADMISSION_Part time', 1.1597760302470632e-05), ('AGE_15-17', -5.344637170769867e-06)]\n"
     ]
    }
   ],
   "source": [
    "# Create an explainer object\n",
    "explainer = lime.lime_tabular.LimeTabularExplainer(X_train, feature_names=X_train.columns, discretize_continuous=False)\n",
    "\n",
    "# Explain the predictions for a specific instance\n",
    "i = 213\n",
    "exp = explainer.explain_instance(X_test.iloc[i], clf.predict_proba, num_features=213)\n",
    "\n",
    "# Print the explanation\n",
    "print(exp.as_list())"
   ]
  },
  {
   "cell_type": "code",
   "execution_count": 11,
   "id": "8265df33",
   "metadata": {},
   "outputs": [
    {
     "data": {
      "text/plain": [
       "[('RACE_Other single race', -0.0002364125),\n",
       " ('RACE_Alaskan Native', -0.0002228478),\n",
       " ('RACE_Black or African American', -0.0001637954),\n",
       " ('RACE_American Indian', -0.0001145825),\n",
       " ('RACE_Asian', 3.14651e-05),\n",
       " ('RACE_Two or more races', 7.7077e-05),\n",
       " ('RACE_Native Hawaiian or Other Pacific Islander', 0.0001068427),\n",
       " ('RACE_White', 0.0002616578)]"
      ]
     },
     "execution_count": 11,
     "metadata": {},
     "output_type": "execute_result"
    }
   ],
   "source": [
    "#creating list of lime explainer output\n",
    "exp_list = exp.as_list()\n",
    "\n",
    "#sorting, rounding, and filtering the list of tuples via the RACE variables\n",
    "exp_list_rounded = [(item[0],round(item[1],10)) for item in exp_list]\n",
    "exp_list_sorted = sorted(exp_list_rounded, key=lambda x: x[1])\n",
    "exp_list_filtered_race = [t for t in exp_list_sorted if t[0].startswith('RACE_')]\n",
    "exp_list_filtered_race"
   ]
  },
  {
   "cell_type": "markdown",
   "id": "8a5f06db",
   "metadata": {},
   "source": [
    "# SHAP for Bias Analysis"
   ]
  },
  {
   "cell_type": "code",
   "execution_count": 12,
   "id": "4c5ff47a",
   "metadata": {},
   "outputs": [
    {
     "name": "stdout",
     "output_type": "stream",
     "text": [
      "[-1.53666479e-02  0.00000000e+00 -5.29806206e-03 -1.06839821e-02\n",
      " -7.83845947e-03 -6.65100535e-03  6.54167079e-03  4.03566028e-03\n",
      " -9.36123673e-02  7.55841520e-03  8.53601436e-03  0.00000000e+00\n",
      "  2.21370497e-02  0.00000000e+00 -6.47150890e-04  1.11100261e-02\n",
      "  4.45844457e-04  2.08317540e-02  0.00000000e+00 -1.08866174e-03\n",
      " -1.89766868e-02  9.91438143e-03  1.95569221e-03  5.17569950e-03\n",
      "  1.67657790e-01 -8.57641245e-05  6.33195784e-03 -1.07532221e-02\n",
      " -1.38236278e-03 -2.06902302e-03  3.97495315e-03  1.63299162e-04\n",
      " -4.73919060e-02  3.45611332e-02  3.07055300e-02 -7.44756837e-02\n",
      " -4.16843687e-02 -6.60296295e-03 -5.49267422e-03 -2.44708389e-03\n",
      "  9.44381640e-03 -6.47640260e-03 -2.09090135e-02  4.07752877e-02\n",
      " -5.12384397e-02  4.15024534e-05 -4.11965684e-03  0.00000000e+00\n",
      " -1.93369003e-01 -2.44231671e-01 -1.34694902e-04 -4.99443807e-03\n",
      " -9.10478693e-04 -2.93689915e-01 -1.31198259e-01 -2.15601146e-03\n",
      "  0.00000000e+00  2.35401982e-03 -2.93300887e-02  0.00000000e+00\n",
      "  9.37256900e-02 -2.21130215e-02 -3.45302276e-02 -4.71802998e-03\n",
      "  0.00000000e+00  1.06602748e-03 -1.54919146e-02  2.40747658e-02\n",
      " -1.00184046e-03  2.45649667e-03  7.33894927e-03 -4.66604773e-02\n",
      "  3.93893691e-03  2.45406785e-03  1.63060884e-03  3.47992914e-03\n",
      "  7.91527431e-03  5.83955331e-03 -2.33610469e-02  0.00000000e+00\n",
      "  2.38630704e-03 -4.15689657e-04  0.00000000e+00  0.00000000e+00\n",
      "  5.07079076e-03  4.46760900e-03  0.00000000e+00 -7.34560899e-04\n",
      "  0.00000000e+00 -1.40403024e-03  6.02033995e-04 -2.12595331e-03\n",
      "  4.29144455e-04  9.19711776e-04  3.05635979e-02 -8.05230356e-03\n",
      "  8.19120019e-03 -1.01062004e-03 -2.18286587e-02  0.00000000e+00\n",
      "  4.73479968e-03  2.58260429e-03  9.13770060e-02 -1.45066133e-02\n",
      "  3.02636220e-02  3.61109400e-02 -4.33062408e-03  6.74677646e-02\n",
      "  7.43919803e-03 -7.22215971e-03  0.00000000e+00 -1.73249552e-02\n",
      "  0.00000000e+00  0.00000000e+00 -4.12894972e-05  5.83830941e-05\n",
      "  1.51134820e-01  0.00000000e+00 -2.45724347e-02 -1.23041596e-01\n",
      "  0.00000000e+00  1.41183540e-03 -1.43613353e-03 -6.60303838e-03\n",
      "  0.00000000e+00  0.00000000e+00  0.00000000e+00  0.00000000e+00\n",
      "  0.00000000e+00 -2.87712681e-02 -2.47157448e-02  1.39762085e-02\n",
      "  1.91471284e-02  3.15422310e-02  1.27037096e-02  2.86238256e-02\n",
      "  9.50261839e-04 -4.23154938e-03 -1.74956995e-02  3.91839916e-02\n",
      " -4.25252554e-02  2.74835530e-03 -1.84462496e-02  1.81161545e-03\n",
      " -1.01696062e-02  0.00000000e+00 -2.41212472e-04  0.00000000e+00\n",
      "  0.00000000e+00 -1.04828935e-02 -2.16944143e-05  0.00000000e+00\n",
      "  5.46184491e-03  0.00000000e+00  7.91031457e-04  1.07211055e-01\n",
      "  0.00000000e+00 -9.38031059e-04 -1.42749318e-01 -1.80757456e-04\n",
      " -3.24882317e-02 -1.73992614e-01  0.00000000e+00 -4.83038189e-03\n",
      " -2.64819505e-03  4.59654547e-03 -1.66670967e-02 -1.60538154e-01\n",
      "  2.61988896e-03  0.00000000e+00  3.92587547e-04 -9.42872297e-03\n",
      " -1.47522206e-04 -1.07573413e-03 -2.10563015e-03 -5.71046723e-03\n",
      "  1.56660032e-02  1.62100977e-01  0.00000000e+00  2.72765886e-03\n",
      " -1.33249322e-03  0.00000000e+00 -3.02089977e-02 -1.65001699e-01\n",
      "  0.00000000e+00  0.00000000e+00  0.00000000e+00 -6.26321228e-03\n",
      "  0.00000000e+00 -1.26104137e-03  0.00000000e+00  0.00000000e+00\n",
      " -7.36528598e-02  0.00000000e+00  0.00000000e+00  3.35536685e-02\n",
      "  0.00000000e+00  3.16478241e-02  2.12612672e-03  4.68391564e-03\n",
      "  0.00000000e+00  0.00000000e+00  2.35253652e-02  0.00000000e+00\n",
      "  0.00000000e+00  0.00000000e+00  1.41702829e-02  0.00000000e+00\n",
      "  0.00000000e+00  0.00000000e+00  1.46672605e-02 -2.74003910e-03\n",
      "  1.64598152e-03]\n"
     ]
    }
   ],
   "source": [
    "#setting up SHAP for Bias Analysis\n",
    "\n",
    "# Train an xgboost model\n",
    "X= features_one_hot\n",
    "y = df['SUCCESSFUL_TREATMENT']\n",
    "\n",
    "#creating model\n",
    "clf = xgboost.XGBClassifier()\n",
    "\n",
    "#fitting model\n",
    "clf.fit(X, y)\n",
    "\n",
    "# Create an explainer object\n",
    "explainer = shap.Explainer(clf, X, feature_names=X.columns)\n",
    "\n",
    "# Explain the predictions for a specific instance\n",
    "i = len(X) - 1\n",
    "exp = explainer.shap_values(X.iloc[i])\n",
    "\n",
    "# Print the explanation\n",
    "print(exp)"
   ]
  },
  {
   "cell_type": "code",
   "execution_count": 13,
   "id": "8787cead",
   "metadata": {},
   "outputs": [],
   "source": [
    "#combining shap_values and feature names into a list of tuples\n",
    "shap_values_list = list(exp)\n",
    "feature_names_list = list(explainer.data_feature_names)\n",
    "combined_shap_list = list(zip(feature_names_list, shap_values_list))"
   ]
  },
  {
   "cell_type": "code",
   "execution_count": 14,
   "id": "0d17b059",
   "metadata": {},
   "outputs": [
    {
     "data": {
      "text/plain": [
       "[('RACE_Two or more races', -0.0189766868),\n",
       " ('RACE_Other single race', -0.0010886617),\n",
       " ('RACE_Alaskan Native', -0.0006471509),\n",
       " ('RACE_Native Hawaiian or Other Pacific Islander', 0.0),\n",
       " ('RACE_Asian', 0.0004458445),\n",
       " ('RACE_White', 0.0099143814),\n",
       " ('RACE_American Indian', 0.0111100261),\n",
       " ('RACE_Black or African American', 0.020831754)]"
      ]
     },
     "execution_count": 14,
     "metadata": {},
     "output_type": "execute_result"
    }
   ],
   "source": [
    "#sorting, rounding, and filtering the list of tuples via the RACE variables\n",
    "combined_shap_list_rounded = [(item[0],round(item[1],10)) for item in combined_shap_list]\n",
    "combined_shap_list_sorted = sorted(combined_shap_list_rounded, key=lambda x: x[1])\n",
    "combined_shap_list_filtered_race = [t for t in combined_shap_list_sorted if t[0].startswith('RACE_')]\n",
    "combined_shap_list_filtered_race"
   ]
  },
  {
   "cell_type": "markdown",
   "id": "50cd754c",
   "metadata": {},
   "source": [
    "# source : https://deepchecks.com/reducing-bias-and-ensuring-fairness-in-machine-learning/#"
   ]
  }
 ],
 "metadata": {
  "kernelspec": {
   "display_name": "Python 3 (ipykernel)",
   "language": "python",
   "name": "python3"
  },
  "language_info": {
   "codemirror_mode": {
    "name": "ipython",
    "version": 3
   },
   "file_extension": ".py",
   "mimetype": "text/x-python",
   "name": "python",
   "nbconvert_exporter": "python",
   "pygments_lexer": "ipython3",
   "version": "3.9.12"
  }
 },
 "nbformat": 4,
 "nbformat_minor": 5
}
