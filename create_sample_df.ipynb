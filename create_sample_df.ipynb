{
 "cells": [
  {
   "cell_type": "code",
   "execution_count": 1,
   "metadata": {},
   "outputs": [],
   "source": [
    "import pandas as pd\n",
    "\n",
    "# Read in the full CSV\n",
    "df = pd.read_csv('cleaned_data.csv')\n",
    "\n",
    "# Create an empty DataFrame to hold the sample data\n",
    "df_sample = pd.DataFrame()\n",
    "\n",
    "# Iterate over each column\n",
    "for column in df.columns:\n",
    "    # Drop duplicates in each column, and add to the sample DataFrame\n",
    "    df_sample = pd.concat([df_sample, df.drop_duplicates(column)])\n",
    "\n",
    "# Write out the sample data to a new CSV\n",
    "df_sample.to_csv('cleaned_data_sample.csv', index=False)"
   ]
  },
  {
   "cell_type": "code",
   "execution_count": 3,
   "metadata": {},
   "outputs": [
    {
     "data": {
      "text/plain": [
       "(227, 28)"
      ]
     },
     "execution_count": 3,
     "metadata": {},
     "output_type": "execute_result"
    }
   ],
   "source": [
    "df_sample.shape"
   ]
  }
 ],
 "metadata": {
  "kernelspec": {
   "display_name": "Python 3",
   "language": "python",
   "name": "python3"
  },
  "language_info": {
   "codemirror_mode": {
    "name": "ipython",
    "version": 3
   },
   "file_extension": ".py",
   "mimetype": "text/x-python",
   "name": "python",
   "nbconvert_exporter": "python",
   "pygments_lexer": "ipython3",
   "version": "3.10.11"
  },
  "orig_nbformat": 4
 },
 "nbformat": 4,
 "nbformat_minor": 2
}
