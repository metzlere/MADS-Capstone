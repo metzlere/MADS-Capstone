{
 "cells": [
  {
   "cell_type": "code",
   "execution_count": 5,
   "metadata": {},
   "outputs": [],
   "source": [
    "import pandas as pd\n",
    "\n",
    "# Read in the full CSV\n",
    "df = pd.read_csv('cleaned_data.csv')\n",
    "\n",
    "# Filter out rows where the patient was transferred to another facility\n",
    "df = df[df['REASON_FOR_DISCHARGE'] != 'Transferred to another treatment program or facility']\n",
    "\n",
    "# Drop variables related to target to ensure consistency between X_Train and X input in app\n",
    "df = df.drop(['PRIOR_TREATMENT_EPISODES'], axis=1)\n",
    "\n",
    "# Create an empty DataFrame to hold the sample data\n",
    "df_sample = pd.DataFrame()\n",
    "\n",
    "# Identify the categorical columns\n",
    "categorical_cols = df.select_dtypes(include=['object']).columns\n",
    "\n",
    "# Iterate over each categorical column\n",
    "for column in categorical_cols:\n",
    "    # Get a sample of 1 from each category\n",
    "    for category in df[column].unique():\n",
    "        category_sample = df[df[column] == category].sample(1)\n",
    "        df_sample = pd.concat([df_sample, category_sample])\n",
    "\n",
    "# Drop duplicate rows\n",
    "#df_sample = df_sample.drop_duplicates()\n",
    "\n",
    "# Write the sample to a new CSV\n",
    "df_sample.to_csv('cleaned_data_sample.csv', index=False)\n"
   ]
  },
  {
   "cell_type": "code",
   "execution_count": 6,
   "metadata": {},
   "outputs": [
    {
     "data": {
      "text/plain": [
       "(193, 20)"
      ]
     },
     "execution_count": 6,
     "metadata": {},
     "output_type": "execute_result"
    }
   ],
   "source": [
    "df_sample.shape"
   ]
  },
  {
   "cell_type": "code",
   "execution_count": 7,
   "metadata": {},
   "outputs": [
    {
     "name": "stdout",
     "output_type": "stream",
     "text": [
      "193\n"
     ]
    }
   ],
   "source": [
    "feature_names = pd.get_dummies(df_sample).columns\n",
    "\n",
    "# for feature in feature_names:\n",
    "#     print(feature)\n",
    "print(len(feature_names))"
   ]
  },
  {
   "cell_type": "code",
   "execution_count": 8,
   "metadata": {},
   "outputs": [],
   "source": [
    "# for col in feature_names:\n",
    "#     print(col)"
   ]
  }
 ],
 "metadata": {
  "kernelspec": {
   "display_name": "Python 3",
   "language": "python",
   "name": "python3"
  },
  "language_info": {
   "codemirror_mode": {
    "name": "ipython",
    "version": 3
   },
   "file_extension": ".py",
   "mimetype": "text/x-python",
   "name": "python",
   "nbconvert_exporter": "python",
   "pygments_lexer": "ipython3",
   "version": "3.10.11"
  },
  "orig_nbformat": 4
 },
 "nbformat": 4,
 "nbformat_minor": 2
}
